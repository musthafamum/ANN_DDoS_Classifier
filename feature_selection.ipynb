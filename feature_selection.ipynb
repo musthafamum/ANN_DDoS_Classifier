{
 "cells": [
  {
   "cell_type": "code",
   "execution_count": 34,
   "metadata": {},
   "outputs": [],
   "source": [
    "import pandas as pd\n",
    "import numpy as np\n",
    "\n",
    "from sklearn.svm import LinearSVC\n",
    "from sklearn.feature_selection import SelectFromModel\n",
    "from sklearn.preprocessing import LabelEncoder, StandardScaler\n",
    "\n",
    "import matplotlib.pyplot as plt\n",
    "%matplotlib inline"
   ]
  },
  {
   "cell_type": "code",
   "execution_count": 2,
   "metadata": {},
   "outputs": [],
   "source": [
    "data = pd.read_csv('balanced_dataset.csv')"
   ]
  },
  {
   "cell_type": "code",
   "execution_count": 4,
   "metadata": {},
   "outputs": [
    {
     "name": "stdout",
     "output_type": "stream",
     "text": [
      "   Unnamed: 0  Unnamed: 0.1  SRC_ADD  DES_ADD  PKT_ID  FROM_NODE  TO_NODE  \\\n",
      "0           0             0      3.0    24.30  389693         21       23   \n",
      "1           1             1     15.0    24.15  201196         23       24   \n",
      "2           2             3     24.9     9.00  443135         23       21   \n",
      "3           3             4     24.8     8.00  157335         23       21   \n",
      "4           4             5     24.1     1.00  219350         21        1   \n",
      "\n",
      "  PKT_TYPE  PKT_SIZE    FLAGS    ...        PKT_RATE  BYTE_RATE  PKT_AVG_SIZE  \\\n",
      "0      tcp      1540  -------    ...      328.240918   505490.0        1540.0   \n",
      "1      tcp      1540  -------    ...      328.205808   505437.0        1540.0   \n",
      "2      ack        55  -------    ...      328.064183    18043.5          55.0   \n",
      "3      ack        55  -------    ...      328.113525    18046.2          55.0   \n",
      "4      ack        55  -------    ...      328.297902    18056.4          55.0   \n",
      "\n",
      "   UTILIZATION PKT_DELAY PKT_SEND_TIME  PKT_RESEVED_TIME  FIRST_PKT_SENT  \\\n",
      "0     0.236321       0.0     35.519662         35.550032        1.000000   \n",
      "1     0.236337       0.0     20.156478         20.186848        1.000000   \n",
      "2     0.008437       0.0     39.617967         39.647976        1.030058   \n",
      "3     0.008438       0.0     16.029803         16.059813        1.030054   \n",
      "4     0.008440       0.0     21.865762         21.895771        1.030016   \n",
      "\n",
      "   LAST_PKT_RESEVED  PKT_CLASS  \n",
      "0         50.021920     Normal  \n",
      "1         50.030211     Normal  \n",
      "2         50.060098     Normal  \n",
      "3         50.061864     Normal  \n",
      "4         50.043427     Normal  \n",
      "\n",
      "[5 rows x 30 columns]\n",
      "Index(['Unnamed: 0', 'Unnamed: 0.1', 'SRC_ADD', 'DES_ADD', 'PKT_ID',\n",
      "       'FROM_NODE', 'TO_NODE', 'PKT_TYPE', 'PKT_SIZE', 'FLAGS', 'FID',\n",
      "       'SEQ_NUMBER', 'NUMBER_OF_PKT', 'NUMBER_OF_BYTE', 'NODE_NAME_FROM',\n",
      "       'NODE_NAME_TO', 'PKT_IN', 'PKT_OUT', 'PKT_R', 'PKT_DELAY_NODE',\n",
      "       'PKT_RATE', 'BYTE_RATE', 'PKT_AVG_SIZE', 'UTILIZATION', 'PKT_DELAY',\n",
      "       'PKT_SEND_TIME', 'PKT_RESEVED_TIME', 'FIRST_PKT_SENT',\n",
      "       'LAST_PKT_RESEVED', 'PKT_CLASS'],\n",
      "      dtype='object')\n"
     ]
    }
   ],
   "source": [
    "print(data.head())\n",
    "print(data.columns)"
   ]
  },
  {
   "cell_type": "code",
   "execution_count": 8,
   "metadata": {},
   "outputs": [],
   "source": [
    "data.drop(\"Unnamed: 0\", axis=1, inplace=True)\n",
    "data.drop(\"Unnamed: 0.1\", axis=1, inplace=True)"
   ]
  },
  {
   "cell_type": "code",
   "execution_count": 10,
   "metadata": {},
   "outputs": [
    {
     "name": "stdout",
     "output_type": "stream",
     "text": [
      "Index(['SRC_ADD', 'DES_ADD', 'PKT_ID', 'FROM_NODE', 'TO_NODE', 'PKT_TYPE',\n",
      "       'PKT_SIZE', 'FLAGS', 'FID', 'SEQ_NUMBER', 'NUMBER_OF_PKT',\n",
      "       'NUMBER_OF_BYTE', 'NODE_NAME_FROM', 'NODE_NAME_TO', 'PKT_IN', 'PKT_OUT',\n",
      "       'PKT_R', 'PKT_DELAY_NODE', 'PKT_RATE', 'BYTE_RATE', 'PKT_AVG_SIZE',\n",
      "       'UTILIZATION', 'PKT_DELAY', 'PKT_SEND_TIME', 'PKT_RESEVED_TIME',\n",
      "       'FIRST_PKT_SENT', 'LAST_PKT_RESEVED', 'PKT_CLASS'],\n",
      "      dtype='object')\n",
      "<class 'pandas.core.frame.DataFrame'>\n",
      "RangeIndex: 20000 entries, 0 to 19999\n",
      "Data columns (total 28 columns):\n",
      "SRC_ADD             20000 non-null float64\n",
      "DES_ADD             20000 non-null float64\n",
      "PKT_ID              20000 non-null int64\n",
      "FROM_NODE           20000 non-null int64\n",
      "TO_NODE             20000 non-null int64\n",
      "PKT_TYPE            20000 non-null object\n",
      "PKT_SIZE            20000 non-null int64\n",
      "FLAGS               20000 non-null object\n",
      "FID                 20000 non-null int64\n",
      "SEQ_NUMBER          20000 non-null int64\n",
      "NUMBER_OF_PKT       20000 non-null int64\n",
      "NUMBER_OF_BYTE      20000 non-null int64\n",
      "NODE_NAME_FROM      20000 non-null object\n",
      "NODE_NAME_TO        20000 non-null object\n",
      "PKT_IN              20000 non-null float64\n",
      "PKT_OUT             20000 non-null float64\n",
      "PKT_R               20000 non-null float64\n",
      "PKT_DELAY_NODE      20000 non-null float64\n",
      "PKT_RATE            20000 non-null float64\n",
      "BYTE_RATE           20000 non-null float64\n",
      "PKT_AVG_SIZE        20000 non-null float64\n",
      "UTILIZATION         20000 non-null float64\n",
      "PKT_DELAY           20000 non-null float64\n",
      "PKT_SEND_TIME       20000 non-null float64\n",
      "PKT_RESEVED_TIME    20000 non-null float64\n",
      "FIRST_PKT_SENT      20000 non-null float64\n",
      "LAST_PKT_RESEVED    20000 non-null float64\n",
      "PKT_CLASS           20000 non-null object\n",
      "dtypes: float64(15), int64(8), object(5)\n",
      "memory usage: 4.3+ MB\n",
      "None\n"
     ]
    }
   ],
   "source": [
    "print(data.columns)\n",
    "print(data.info())"
   ]
  },
  {
   "cell_type": "code",
   "execution_count": 15,
   "metadata": {},
   "outputs": [
    {
     "data": {
      "text/plain": [
       "Index(['SRC_ADD', 'DES_ADD', 'PKT_ID', 'FROM_NODE', 'TO_NODE', 'PKT_TYPE',\n",
       "       'PKT_SIZE', 'FLAGS', 'FID', 'SEQ_NUMBER', 'NUMBER_OF_PKT',\n",
       "       'NUMBER_OF_BYTE', 'PKT_IN', 'PKT_OUT', 'PKT_R', 'PKT_DELAY_NODE',\n",
       "       'PKT_RATE', 'BYTE_RATE', 'PKT_AVG_SIZE', 'UTILIZATION', 'PKT_DELAY',\n",
       "       'PKT_SEND_TIME', 'PKT_RESEVED_TIME', 'FIRST_PKT_SENT',\n",
       "       'LAST_PKT_RESEVED', 'PKT_CLASS', 'ack', 'cbr', 'ping', 'tcp', '-------',\n",
       "       '---A---'],\n",
       "      dtype='object')"
      ]
     },
     "execution_count": 15,
     "metadata": {},
     "output_type": "execute_result"
    }
   ],
   "source": [
    "# data.drop(\"Unnamed: 0\",axis=1,inplace=True)\n",
    "# data.drop(\"Unnamed: 0.1\",axis=1,inplace=True)\n",
    "\n",
    "dummy_pkt_type = pd.get_dummies(data['PKT_TYPE'])\n",
    "data = pd.concat([data, dummy_pkt_type], axis = 1)\n",
    "\n",
    "dummy_flags = pd.get_dummies(data['FLAGS'])\n",
    "data = pd.concat([data, dummy_flags], axis = 1)\n",
    "\n",
    "data.drop(\"NODE_NAME_FROM\",axis=1,inplace=True)\n",
    "data.drop(\"NODE_NAME_TO\",axis=1,inplace=True)\n",
    "\n"
   ]
  },
  {
   "cell_type": "code",
   "execution_count": 20,
   "metadata": {},
   "outputs": [
    {
     "data": {
      "text/plain": [
       "Index(['SRC_ADD', 'DES_ADD', 'PKT_ID', 'FROM_NODE', 'TO_NODE', 'PKT_TYPE',\n",
       "       'PKT_SIZE', 'FLAGS', 'FID', 'SEQ_NUMBER', 'NUMBER_OF_PKT',\n",
       "       'NUMBER_OF_BYTE', 'PKT_IN', 'PKT_OUT', 'PKT_R', 'PKT_DELAY_NODE',\n",
       "       'PKT_RATE', 'BYTE_RATE', 'PKT_AVG_SIZE', 'UTILIZATION', 'PKT_DELAY',\n",
       "       'PKT_SEND_TIME', 'PKT_RESEVED_TIME', 'FIRST_PKT_SENT',\n",
       "       'LAST_PKT_RESEVED', 'PKT_CLASS', 'ack', 'cbr', 'ping', 'tcp', '-------',\n",
       "       '---A---'],\n",
       "      dtype='object')"
      ]
     },
     "execution_count": 20,
     "metadata": {},
     "output_type": "execute_result"
    }
   ],
   "source": [
    "data.columns"
   ]
  },
  {
   "cell_type": "code",
   "execution_count": 26,
   "metadata": {},
   "outputs": [
    {
     "name": "stdout",
     "output_type": "stream",
     "text": [
      "(20000, 29)\n",
      "(20000,)\n"
     ]
    }
   ],
   "source": [
    "features = ['SRC_ADD', 'DES_ADD', 'PKT_ID', 'FROM_NODE', 'TO_NODE',\n",
    "       'PKT_SIZE', 'FID', 'SEQ_NUMBER', 'NUMBER_OF_PKT',\n",
    "       'NUMBER_OF_BYTE', 'PKT_IN', 'PKT_OUT', 'PKT_R', 'PKT_DELAY_NODE',\n",
    "       'PKT_RATE', 'BYTE_RATE', 'PKT_AVG_SIZE', 'UTILIZATION', 'PKT_DELAY',\n",
    "       'PKT_SEND_TIME', 'PKT_RESEVED_TIME', 'FIRST_PKT_SENT',\n",
    "       'LAST_PKT_RESEVED','ack', 'cbr', 'ping', 'tcp', '-------',\n",
    "       '---A---']\n",
    "X = data[features].values\n",
    "Y = data['PKT_CLASS']\n",
    "\n",
    "print(X.shape)\n",
    "print(Y.shape)\n"
   ]
  },
  {
   "cell_type": "code",
   "execution_count": 35,
   "metadata": {},
   "outputs": [],
   "source": [
    "scalar = StandardScaler(copy=True, with_mean=True, with_std=True)\n",
    "scalar.fit(X)\n",
    "standardised_X = scalar.transform(X)"
   ]
  },
  {
   "cell_type": "code",
   "execution_count": 27,
   "metadata": {},
   "outputs": [],
   "source": [
    "encoder = LabelEncoder()\n",
    "encoder.fit(Y)\n",
    "encoded_Y = encoder.transform(Y)"
   ]
  },
  {
   "cell_type": "code",
   "execution_count": 36,
   "metadata": {},
   "outputs": [
    {
     "data": {
      "text/plain": [
       "(20000, 25)"
      ]
     },
     "execution_count": 36,
     "metadata": {},
     "output_type": "execute_result"
    }
   ],
   "source": [
    "lsvc = LinearSVC(C=0.01, penalty=\"l1\", dual=False).fit(standardised_X, Y)\n",
    "model = SelectFromModel(lsvc, prefit=True)\n",
    "X_new = model.transform(standardised_X)\n",
    "X_new.shape"
   ]
  },
  {
   "cell_type": "code",
   "execution_count": 37,
   "metadata": {},
   "outputs": [
    {
     "name": "stdout",
     "output_type": "stream",
     "text": [
      "(20000, 29)\n",
      "(20000, 25)\n"
     ]
    }
   ],
   "source": [
    "print(X.shape)\n",
    "print(X_new.shape)"
   ]
  },
  {
   "cell_type": "code",
   "execution_count": null,
   "metadata": {},
   "outputs": [],
   "source": []
  }
 ],
 "metadata": {
  "kernelspec": {
   "display_name": "Python 3",
   "language": "python",
   "name": "python3"
  },
  "language_info": {
   "codemirror_mode": {
    "name": "ipython",
    "version": 3
   },
   "file_extension": ".py",
   "mimetype": "text/x-python",
   "name": "python",
   "nbconvert_exporter": "python",
   "pygments_lexer": "ipython3",
   "version": "3.7.1"
  }
 },
 "nbformat": 4,
 "nbformat_minor": 2
}
