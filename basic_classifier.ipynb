{
 "cells": [
  {
   "cell_type": "code",
   "execution_count": 1,
   "metadata": {},
   "outputs": [
    {
     "name": "stderr",
     "output_type": "stream",
     "text": [
      "Using TensorFlow backend.\n",
      "/anaconda3/lib/python3.7/importlib/_bootstrap.py:219: RuntimeWarning: compiletime version 3.6 of module 'tensorflow.python.framework.fast_tensor_util' does not match runtime version 3.7\n",
      "  return f(*args, **kwds)\n"
     ]
    }
   ],
   "source": [
    "import numpy as np\n",
    "import pandas as pd\n",
    "import matplotlib.pyplot as plt\n",
    "import seaborn as sns\n",
    "import keras \n",
    "\n",
    "%matplotlib inline"
   ]
  },
  {
   "cell_type": "code",
   "execution_count": 2,
   "metadata": {},
   "outputs": [],
   "source": [
    "from sklearn.model_selection import train_test_split\n",
    "from sklearn.preprocessing import LabelEncoder, StandardScaler\n",
    "from sklearn.pipeline import Pipeline"
   ]
  },
  {
   "cell_type": "code",
   "execution_count": 3,
   "metadata": {},
   "outputs": [],
   "source": [
    "from keras.models import Sequential\n",
    "from keras.layers import Dense\n",
    "from keras.wrappers.scikit_learn import KerasClassifier\n",
    "\n",
    "from sklearn.model_selection import StratifiedKFold, cross_val_score"
   ]
  },
  {
   "cell_type": "code",
   "execution_count": 4,
   "metadata": {},
   "outputs": [
    {
     "name": "stdout",
     "output_type": "stream",
     "text": [
      "         id diagnosis  radius_mean  texture_mean  perimeter_mean  area_mean  \\\n",
      "0    842302         M        17.99         10.38          122.80     1001.0   \n",
      "1    842517         M        20.57         17.77          132.90     1326.0   \n",
      "2  84300903         M        19.69         21.25          130.00     1203.0   \n",
      "3  84348301         M        11.42         20.38           77.58      386.1   \n",
      "4  84358402         M        20.29         14.34          135.10     1297.0   \n",
      "\n",
      "   smoothness_mean  compactness_mean  concavity_mean  concave points_mean  \\\n",
      "0          0.11840           0.27760          0.3001              0.14710   \n",
      "1          0.08474           0.07864          0.0869              0.07017   \n",
      "2          0.10960           0.15990          0.1974              0.12790   \n",
      "3          0.14250           0.28390          0.2414              0.10520   \n",
      "4          0.10030           0.13280          0.1980              0.10430   \n",
      "\n",
      "      ...       texture_worst  perimeter_worst  area_worst  smoothness_worst  \\\n",
      "0     ...               17.33           184.60      2019.0            0.1622   \n",
      "1     ...               23.41           158.80      1956.0            0.1238   \n",
      "2     ...               25.53           152.50      1709.0            0.1444   \n",
      "3     ...               26.50            98.87       567.7            0.2098   \n",
      "4     ...               16.67           152.20      1575.0            0.1374   \n",
      "\n",
      "   compactness_worst  concavity_worst  concave points_worst  symmetry_worst  \\\n",
      "0             0.6656           0.7119                0.2654          0.4601   \n",
      "1             0.1866           0.2416                0.1860          0.2750   \n",
      "2             0.4245           0.4504                0.2430          0.3613   \n",
      "3             0.8663           0.6869                0.2575          0.6638   \n",
      "4             0.2050           0.4000                0.1625          0.2364   \n",
      "\n",
      "   fractal_dimension_worst  Unnamed: 32  \n",
      "0                  0.11890          NaN  \n",
      "1                  0.08902          NaN  \n",
      "2                  0.08758          NaN  \n",
      "3                  0.17300          NaN  \n",
      "4                  0.07678          NaN  \n",
      "\n",
      "[5 rows x 33 columns]\n"
     ]
    }
   ],
   "source": [
    "data = pd.read_csv('./data.csv')\n",
    "seed = 5\n",
    "np.random.seed(seed)\n",
    "\n",
    "print(data.head())"
   ]
  },
  {
   "cell_type": "code",
   "execution_count": 5,
   "metadata": {},
   "outputs": [
    {
     "name": "stdout",
     "output_type": "stream",
     "text": [
      "<class 'pandas.core.frame.DataFrame'>\n",
      "RangeIndex: 569 entries, 0 to 568\n",
      "Data columns (total 33 columns):\n",
      "id                         569 non-null int64\n",
      "diagnosis                  569 non-null object\n",
      "radius_mean                569 non-null float64\n",
      "texture_mean               569 non-null float64\n",
      "perimeter_mean             569 non-null float64\n",
      "area_mean                  569 non-null float64\n",
      "smoothness_mean            569 non-null float64\n",
      "compactness_mean           569 non-null float64\n",
      "concavity_mean             569 non-null float64\n",
      "concave points_mean        569 non-null float64\n",
      "symmetry_mean              569 non-null float64\n",
      "fractal_dimension_mean     569 non-null float64\n",
      "radius_se                  569 non-null float64\n",
      "texture_se                 569 non-null float64\n",
      "perimeter_se               569 non-null float64\n",
      "area_se                    569 non-null float64\n",
      "smoothness_se              569 non-null float64\n",
      "compactness_se             569 non-null float64\n",
      "concavity_se               569 non-null float64\n",
      "concave points_se          569 non-null float64\n",
      "symmetry_se                569 non-null float64\n",
      "fractal_dimension_se       569 non-null float64\n",
      "radius_worst               569 non-null float64\n",
      "texture_worst              569 non-null float64\n",
      "perimeter_worst            569 non-null float64\n",
      "area_worst                 569 non-null float64\n",
      "smoothness_worst           569 non-null float64\n",
      "compactness_worst          569 non-null float64\n",
      "concavity_worst            569 non-null float64\n",
      "concave points_worst       569 non-null float64\n",
      "symmetry_worst             569 non-null float64\n",
      "fractal_dimension_worst    569 non-null float64\n",
      "Unnamed: 32                0 non-null float64\n",
      "dtypes: float64(31), int64(1), object(1)\n",
      "memory usage: 146.8+ KB\n"
     ]
    }
   ],
   "source": [
    "data.info()"
   ]
  },
  {
   "cell_type": "code",
   "execution_count": 6,
   "metadata": {},
   "outputs": [],
   "source": [
    "data.drop(\"Unnamed: 32\",axis=1,inplace=True)\n",
    "data.drop(\"id\", axis=1, inplace=True)"
   ]
  },
  {
   "cell_type": "code",
   "execution_count": 17,
   "metadata": {},
   "outputs": [
    {
     "data": {
      "text/plain": [
       "(31,)"
      ]
     },
     "execution_count": 17,
     "metadata": {},
     "output_type": "execute_result"
    }
   ],
   "source": [
    "data.columns.shape"
   ]
  },
  {
   "cell_type": "code",
   "execution_count": 8,
   "metadata": {},
   "outputs": [],
   "source": [
    "prediction_var = ['radius_mean', 'texture_mean', 'perimeter_mean',\n",
    "       'area_mean', 'smoothness_mean', 'compactness_mean', 'concavity_mean',\n",
    "       'concave points_mean', 'symmetry_mean', 'fractal_dimension_mean',\n",
    "       'radius_se', 'texture_se', 'perimeter_se', 'area_se', 'smoothness_se',\n",
    "       'compactness_se', 'concavity_se', 'concave points_se', 'symmetry_se',\n",
    "       'fractal_dimension_se', 'radius_worst', 'texture_worst',\n",
    "       'perimeter_worst', 'area_worst', 'smoothness_worst',\n",
    "       'compactness_worst', 'concavity_worst', 'concave points_worst',\n",
    "       'symmetry_worst', 'fractal_dimension_worst']\n",
    "X = data[prediction_var].values\n",
    "Y = data.diagnosis.values"
   ]
  },
  {
   "cell_type": "code",
   "execution_count": 9,
   "metadata": {},
   "outputs": [],
   "source": [
    "encoder = LabelEncoder()\n",
    "encoder.fit(Y)\n",
    "encoded_Y = encoder.transform(Y)"
   ]
  },
  {
   "cell_type": "code",
   "execution_count": 20,
   "metadata": {},
   "outputs": [],
   "source": [
    "def create_baseline():\n",
    "    # create model\n",
    "    model = Sequential()\n",
    "    model.add(Dense(10, input_dim=30, kernel_initializer='normal', activation='relu'))\n",
    "    model.add(Dense(1, kernel_initializer='normal', activation='sigmoid'))\n",
    "    # Compile model. We use the the logarithmic loss function, and the Adam gradient optimizer.\n",
    "    model.compile(loss='binary_crossentropy', optimizer='adam', metrics=['accuracy'])\n",
    "    return model"
   ]
  },
  {
   "cell_type": "code",
   "execution_count": 21,
   "metadata": {},
   "outputs": [
    {
     "name": "stdout",
     "output_type": "stream",
     "text": [
      "Train on 455 samples, validate on 114 samples\n",
      "Epoch 1/100\n",
      "455/455 [==============================] - 0s 926us/step - loss: 1.0610 - acc: 0.4088 - val_loss: 0.7262 - val_acc: 0.2281\n",
      "Epoch 2/100\n",
      "455/455 [==============================] - 0s 101us/step - loss: 0.7103 - acc: 0.5033 - val_loss: 0.7679 - val_acc: 0.2281\n",
      "Epoch 3/100\n",
      "455/455 [==============================] - 0s 98us/step - loss: 0.6281 - acc: 0.4484 - val_loss: 0.6286 - val_acc: 0.9211\n",
      "Epoch 4/100\n",
      "455/455 [==============================] - 0s 92us/step - loss: 0.6052 - acc: 0.7604 - val_loss: 0.6829 - val_acc: 0.3246\n",
      "Epoch 5/100\n",
      "455/455 [==============================] - 0s 75us/step - loss: 0.5598 - acc: 0.7297 - val_loss: 0.5561 - val_acc: 0.9035\n",
      "Epoch 6/100\n",
      "455/455 [==============================] - 0s 90us/step - loss: 0.5113 - acc: 0.8791 - val_loss: 0.5031 - val_acc: 0.9123\n",
      "Epoch 7/100\n",
      "455/455 [==============================] - 0s 101us/step - loss: 0.4784 - acc: 0.9011 - val_loss: 0.5052 - val_acc: 0.8596\n",
      "Epoch 8/100\n",
      "455/455 [==============================] - 0s 94us/step - loss: 0.4358 - acc: 0.9011 - val_loss: 0.4594 - val_acc: 0.8860\n",
      "Epoch 9/100\n",
      "455/455 [==============================] - 0s 98us/step - loss: 0.3975 - acc: 0.9143 - val_loss: 0.3884 - val_acc: 0.9211\n",
      "Epoch 10/100\n",
      "455/455 [==============================] - 0s 145us/step - loss: 0.3673 - acc: 0.9121 - val_loss: 0.3458 - val_acc: 0.9123\n",
      "Epoch 11/100\n",
      "455/455 [==============================] - 0s 94us/step - loss: 0.3446 - acc: 0.9099 - val_loss: 0.3256 - val_acc: 0.9211\n",
      "Epoch 12/100\n",
      "455/455 [==============================] - 0s 111us/step - loss: 0.3406 - acc: 0.8857 - val_loss: 0.3713 - val_acc: 0.8860\n",
      "Epoch 13/100\n",
      "455/455 [==============================] - 0s 74us/step - loss: 0.3087 - acc: 0.9099 - val_loss: 0.3273 - val_acc: 0.9035\n",
      "Epoch 14/100\n",
      "455/455 [==============================] - 0s 104us/step - loss: 0.2940 - acc: 0.9099 - val_loss: 0.2954 - val_acc: 0.9211\n",
      "Epoch 15/100\n",
      "455/455 [==============================] - 0s 75us/step - loss: 0.2778 - acc: 0.9209 - val_loss: 0.2640 - val_acc: 0.9211\n",
      "Epoch 16/100\n",
      "455/455 [==============================] - 0s 75us/step - loss: 0.2679 - acc: 0.9187 - val_loss: 0.2792 - val_acc: 0.9123\n",
      "Epoch 17/100\n",
      "455/455 [==============================] - 0s 83us/step - loss: 0.2599 - acc: 0.9165 - val_loss: 0.2563 - val_acc: 0.9211\n",
      "Epoch 18/100\n",
      "455/455 [==============================] - 0s 96us/step - loss: 0.2522 - acc: 0.9253 - val_loss: 0.2538 - val_acc: 0.9211\n",
      "Epoch 19/100\n",
      "455/455 [==============================] - 0s 114us/step - loss: 0.2506 - acc: 0.9121 - val_loss: 0.2869 - val_acc: 0.8947\n",
      "Epoch 20/100\n",
      "455/455 [==============================] - 0s 110us/step - loss: 0.2507 - acc: 0.9077 - val_loss: 0.2542 - val_acc: 0.9035\n",
      "Epoch 21/100\n",
      "455/455 [==============================] - 0s 112us/step - loss: 0.2457 - acc: 0.9099 - val_loss: 0.2955 - val_acc: 0.8947\n",
      "Epoch 22/100\n",
      "455/455 [==============================] - 0s 165us/step - loss: 0.2405 - acc: 0.9143 - val_loss: 0.2250 - val_acc: 0.9211\n",
      "Epoch 23/100\n",
      "455/455 [==============================] - 0s 120us/step - loss: 0.2364 - acc: 0.9231 - val_loss: 0.2362 - val_acc: 0.9211\n",
      "Epoch 24/100\n",
      "455/455 [==============================] - 0s 97us/step - loss: 0.2288 - acc: 0.9253 - val_loss: 0.2504 - val_acc: 0.9035\n",
      "Epoch 25/100\n",
      "455/455 [==============================] - 0s 106us/step - loss: 0.2397 - acc: 0.9165 - val_loss: 0.2225 - val_acc: 0.9211\n",
      "Epoch 26/100\n",
      "455/455 [==============================] - 0s 116us/step - loss: 0.2220 - acc: 0.9209 - val_loss: 0.2454 - val_acc: 0.9035\n",
      "Epoch 27/100\n",
      "455/455 [==============================] - 0s 120us/step - loss: 0.2185 - acc: 0.9231 - val_loss: 0.2434 - val_acc: 0.9035\n",
      "Epoch 28/100\n",
      "455/455 [==============================] - 0s 89us/step - loss: 0.2192 - acc: 0.9253 - val_loss: 0.2728 - val_acc: 0.9035\n",
      "Epoch 29/100\n",
      "455/455 [==============================] - 0s 141us/step - loss: 0.2177 - acc: 0.9231 - val_loss: 0.2629 - val_acc: 0.9035\n",
      "Epoch 30/100\n",
      "455/455 [==============================] - 0s 104us/step - loss: 0.2474 - acc: 0.9165 - val_loss: 0.2028 - val_acc: 0.9386\n",
      "Epoch 31/100\n",
      "455/455 [==============================] - 0s 108us/step - loss: 0.2155 - acc: 0.9231 - val_loss: 0.2398 - val_acc: 0.9035\n",
      "Epoch 32/100\n",
      "455/455 [==============================] - 0s 104us/step - loss: 0.2085 - acc: 0.9253 - val_loss: 0.2258 - val_acc: 0.9123\n",
      "Epoch 33/100\n",
      "455/455 [==============================] - 0s 107us/step - loss: 0.2074 - acc: 0.9231 - val_loss: 0.2308 - val_acc: 0.9035\n",
      "Epoch 34/100\n",
      "455/455 [==============================] - 0s 105us/step - loss: 0.2059 - acc: 0.9253 - val_loss: 0.2532 - val_acc: 0.9035\n",
      "Epoch 35/100\n",
      "455/455 [==============================] - 0s 128us/step - loss: 0.2216 - acc: 0.9165 - val_loss: 0.2214 - val_acc: 0.9123\n",
      "Epoch 36/100\n",
      "455/455 [==============================] - 0s 119us/step - loss: 0.2083 - acc: 0.9143 - val_loss: 0.2010 - val_acc: 0.9211\n",
      "Epoch 37/100\n",
      "455/455 [==============================] - 0s 97us/step - loss: 0.2053 - acc: 0.9165 - val_loss: 0.2275 - val_acc: 0.9123\n",
      "Epoch 38/100\n",
      "455/455 [==============================] - 0s 207us/step - loss: 0.2126 - acc: 0.9187 - val_loss: 0.3316 - val_acc: 0.8684\n",
      "Epoch 39/100\n",
      "455/455 [==============================] - 0s 144us/step - loss: 0.2209 - acc: 0.9099 - val_loss: 0.2165 - val_acc: 0.9123\n",
      "Epoch 40/100\n",
      "455/455 [==============================] - 0s 170us/step - loss: 0.2016 - acc: 0.9275 - val_loss: 0.2140 - val_acc: 0.9211\n",
      "Epoch 41/100\n",
      "455/455 [==============================] - 0s 157us/step - loss: 0.2007 - acc: 0.9209 - val_loss: 0.2053 - val_acc: 0.9211\n",
      "Epoch 42/100\n",
      "455/455 [==============================] - 0s 133us/step - loss: 0.2008 - acc: 0.9275 - val_loss: 0.2199 - val_acc: 0.9123\n",
      "Epoch 43/100\n",
      "455/455 [==============================] - 0s 125us/step - loss: 0.1969 - acc: 0.9253 - val_loss: 0.2358 - val_acc: 0.9035\n",
      "Epoch 44/100\n",
      "455/455 [==============================] - 0s 157us/step - loss: 0.1964 - acc: 0.9209 - val_loss: 0.2116 - val_acc: 0.9123\n",
      "Epoch 45/100\n",
      "455/455 [==============================] - 0s 117us/step - loss: 0.1963 - acc: 0.9319 - val_loss: 0.3054 - val_acc: 0.8947\n",
      "Epoch 46/100\n",
      "455/455 [==============================] - 0s 85us/step - loss: 0.2038 - acc: 0.9209 - val_loss: 0.2373 - val_acc: 0.9035\n",
      "Epoch 47/100\n",
      "455/455 [==============================] - 0s 78us/step - loss: 0.2046 - acc: 0.9209 - val_loss: 0.2052 - val_acc: 0.9211\n",
      "Epoch 48/100\n",
      "455/455 [==============================] - 0s 89us/step - loss: 0.1943 - acc: 0.9209 - val_loss: 0.2046 - val_acc: 0.9211\n",
      "Epoch 49/100\n",
      "455/455 [==============================] - 0s 116us/step - loss: 0.1938 - acc: 0.9209 - val_loss: 0.3446 - val_acc: 0.8772\n",
      "Epoch 50/100\n",
      "455/455 [==============================] - 0s 199us/step - loss: 0.2249 - acc: 0.9033 - val_loss: 0.2184 - val_acc: 0.9211\n",
      "Epoch 51/100\n",
      "455/455 [==============================] - 0s 111us/step - loss: 0.2018 - acc: 0.9253 - val_loss: 0.1997 - val_acc: 0.9211\n",
      "Epoch 52/100\n",
      "455/455 [==============================] - 0s 88us/step - loss: 0.1990 - acc: 0.9275 - val_loss: 0.1970 - val_acc: 0.9211\n",
      "Epoch 53/100\n",
      "455/455 [==============================] - 0s 96us/step - loss: 0.1857 - acc: 0.9319 - val_loss: 0.2887 - val_acc: 0.9035\n",
      "Epoch 54/100\n",
      "455/455 [==============================] - 0s 79us/step - loss: 0.2041 - acc: 0.9253 - val_loss: 0.2658 - val_acc: 0.8947\n",
      "Epoch 55/100\n",
      "455/455 [==============================] - 0s 90us/step - loss: 0.2032 - acc: 0.9275 - val_loss: 0.1903 - val_acc: 0.9211\n",
      "Epoch 56/100\n",
      "455/455 [==============================] - 0s 59us/step - loss: 0.1899 - acc: 0.9209 - val_loss: 0.2150 - val_acc: 0.9211\n",
      "Epoch 57/100\n",
      "455/455 [==============================] - 0s 60us/step - loss: 0.1856 - acc: 0.9253 - val_loss: 0.2380 - val_acc: 0.9123\n",
      "Epoch 58/100\n",
      "455/455 [==============================] - 0s 63us/step - loss: 0.1877 - acc: 0.9275 - val_loss: 0.2124 - val_acc: 0.9211\n",
      "Epoch 59/100\n",
      "455/455 [==============================] - 0s 71us/step - loss: 0.1967 - acc: 0.9209 - val_loss: 0.2148 - val_acc: 0.9211\n",
      "Epoch 60/100\n",
      "455/455 [==============================] - 0s 94us/step - loss: 0.1862 - acc: 0.9275 - val_loss: 0.2418 - val_acc: 0.9123\n",
      "Epoch 61/100\n"
     ]
    },
    {
     "name": "stdout",
     "output_type": "stream",
     "text": [
      "455/455 [==============================] - 0s 64us/step - loss: 0.1897 - acc: 0.9231 - val_loss: 0.2493 - val_acc: 0.9123\n",
      "Epoch 62/100\n",
      "455/455 [==============================] - 0s 63us/step - loss: 0.1836 - acc: 0.9253 - val_loss: 0.2142 - val_acc: 0.9211\n",
      "Epoch 63/100\n",
      "455/455 [==============================] - 0s 64us/step - loss: 0.1833 - acc: 0.9231 - val_loss: 0.2456 - val_acc: 0.9123\n",
      "Epoch 64/100\n",
      "455/455 [==============================] - 0s 78us/step - loss: 0.1913 - acc: 0.9231 - val_loss: 0.2460 - val_acc: 0.9123\n",
      "Epoch 65/100\n",
      "455/455 [==============================] - 0s 63us/step - loss: 0.1811 - acc: 0.9297 - val_loss: 0.1960 - val_acc: 0.9211\n",
      "Epoch 66/100\n",
      "455/455 [==============================] - 0s 73us/step - loss: 0.1811 - acc: 0.9275 - val_loss: 0.2107 - val_acc: 0.9211\n",
      "Epoch 67/100\n",
      "455/455 [==============================] - 0s 62us/step - loss: 0.1844 - acc: 0.9319 - val_loss: 0.2890 - val_acc: 0.8860\n",
      "Epoch 68/100\n",
      "455/455 [==============================] - 0s 59us/step - loss: 0.1827 - acc: 0.9319 - val_loss: 0.1922 - val_acc: 0.9211\n",
      "Epoch 69/100\n",
      "455/455 [==============================] - 0s 59us/step - loss: 0.1905 - acc: 0.9253 - val_loss: 0.1985 - val_acc: 0.9211\n",
      "Epoch 70/100\n",
      "455/455 [==============================] - 0s 58us/step - loss: 0.1883 - acc: 0.9231 - val_loss: 0.2699 - val_acc: 0.9035\n",
      "Epoch 71/100\n",
      "455/455 [==============================] - 0s 59us/step - loss: 0.1869 - acc: 0.9165 - val_loss: 0.2407 - val_acc: 0.9211\n",
      "Epoch 72/100\n",
      "455/455 [==============================] - 0s 62us/step - loss: 0.1767 - acc: 0.9253 - val_loss: 0.1889 - val_acc: 0.9211\n",
      "Epoch 73/100\n",
      "455/455 [==============================] - 0s 65us/step - loss: 0.1905 - acc: 0.9143 - val_loss: 0.2074 - val_acc: 0.9211\n",
      "Epoch 74/100\n",
      "455/455 [==============================] - 0s 85us/step - loss: 0.1771 - acc: 0.9319 - val_loss: 0.2225 - val_acc: 0.9298\n",
      "Epoch 75/100\n",
      "455/455 [==============================] - 0s 87us/step - loss: 0.1758 - acc: 0.9253 - val_loss: 0.2182 - val_acc: 0.9298\n",
      "Epoch 76/100\n",
      "455/455 [==============================] - 0s 84us/step - loss: 0.1796 - acc: 0.9209 - val_loss: 0.2306 - val_acc: 0.9298\n",
      "Epoch 77/100\n",
      "455/455 [==============================] - 0s 85us/step - loss: 0.1772 - acc: 0.9231 - val_loss: 0.2571 - val_acc: 0.9123\n",
      "Epoch 78/100\n",
      "455/455 [==============================] - 0s 86us/step - loss: 0.1868 - acc: 0.9341 - val_loss: 0.1865 - val_acc: 0.9211\n",
      "Epoch 79/100\n",
      "455/455 [==============================] - 0s 87us/step - loss: 0.1794 - acc: 0.9275 - val_loss: 0.1900 - val_acc: 0.9211\n",
      "Epoch 80/100\n",
      "455/455 [==============================] - 0s 87us/step - loss: 0.1841 - acc: 0.9231 - val_loss: 0.1798 - val_acc: 0.9298\n",
      "Epoch 81/100\n",
      "455/455 [==============================] - 0s 86us/step - loss: 0.1927 - acc: 0.9231 - val_loss: 0.1844 - val_acc: 0.9211\n",
      "Epoch 82/100\n",
      "455/455 [==============================] - 0s 84us/step - loss: 0.1719 - acc: 0.9319 - val_loss: 0.2572 - val_acc: 0.9123\n",
      "Epoch 83/100\n",
      "455/455 [==============================] - 0s 76us/step - loss: 0.1952 - acc: 0.9121 - val_loss: 0.1930 - val_acc: 0.9211\n",
      "Epoch 84/100\n",
      "455/455 [==============================] - 0s 65us/step - loss: 0.1693 - acc: 0.9231 - val_loss: 0.2497 - val_acc: 0.9211\n",
      "Epoch 85/100\n",
      "455/455 [==============================] - 0s 64us/step - loss: 0.1756 - acc: 0.9275 - val_loss: 0.2129 - val_acc: 0.9298\n",
      "Epoch 86/100\n",
      "455/455 [==============================] - 0s 58us/step - loss: 0.1739 - acc: 0.9253 - val_loss: 0.2029 - val_acc: 0.9211\n",
      "Epoch 87/100\n",
      "455/455 [==============================] - 0s 58us/step - loss: 0.1723 - acc: 0.9231 - val_loss: 0.1905 - val_acc: 0.9211\n",
      "Epoch 88/100\n",
      "455/455 [==============================] - 0s 58us/step - loss: 0.1731 - acc: 0.9341 - val_loss: 0.2199 - val_acc: 0.9386\n",
      "Epoch 89/100\n",
      "455/455 [==============================] - 0s 59us/step - loss: 0.1689 - acc: 0.9275 - val_loss: 0.2035 - val_acc: 0.9298\n",
      "Epoch 90/100\n",
      "455/455 [==============================] - 0s 58us/step - loss: 0.1684 - acc: 0.9275 - val_loss: 0.1774 - val_acc: 0.9298\n",
      "Epoch 91/100\n",
      "455/455 [==============================] - 0s 63us/step - loss: 0.1708 - acc: 0.9319 - val_loss: 0.3065 - val_acc: 0.8684\n",
      "Epoch 92/100\n",
      "455/455 [==============================] - 0s 58us/step - loss: 0.1733 - acc: 0.9187 - val_loss: 0.1740 - val_acc: 0.9386\n",
      "Epoch 93/100\n",
      "455/455 [==============================] - 0s 74us/step - loss: 0.1877 - acc: 0.9165 - val_loss: 0.1907 - val_acc: 0.9211\n",
      "Epoch 94/100\n",
      "455/455 [==============================] - 0s 69us/step - loss: 0.1735 - acc: 0.9209 - val_loss: 0.2586 - val_acc: 0.8947\n",
      "Epoch 95/100\n",
      "455/455 [==============================] - 0s 65us/step - loss: 0.1666 - acc: 0.9275 - val_loss: 0.2030 - val_acc: 0.9386\n",
      "Epoch 96/100\n",
      "455/455 [==============================] - 0s 68us/step - loss: 0.1689 - acc: 0.9253 - val_loss: 0.1779 - val_acc: 0.9298\n",
      "Epoch 97/100\n",
      "455/455 [==============================] - 0s 75us/step - loss: 0.1814 - acc: 0.9297 - val_loss: 0.2494 - val_acc: 0.9211\n",
      "Epoch 98/100\n",
      "455/455 [==============================] - 0s 67us/step - loss: 0.1660 - acc: 0.9319 - val_loss: 0.2162 - val_acc: 0.9386\n",
      "Epoch 99/100\n",
      "455/455 [==============================] - 0s 62us/step - loss: 0.1667 - acc: 0.9275 - val_loss: 0.1820 - val_acc: 0.9211\n",
      "Epoch 100/100\n",
      "455/455 [==============================] - 0s 70us/step - loss: 0.1697 - acc: 0.9341 - val_loss: 0.2163 - val_acc: 0.9386\n"
     ]
    }
   ],
   "source": [
    "estimators = []\n",
    "estimators.append(('standardize', StandardScaler()))\n",
    "estimators.append(('mlp', KerasClassifier(build_fn=create_baseline, epochs=100, batch_size=5, verbose=1)))\n",
    "pipeline = Pipeline(estimators)\n",
    "kfold = StratifiedKFold(n_splits=10, shuffle=True)\n",
    "# results = cross_val_score(pipeline, X, encoded_Y, cv=kfold)\n",
    "# print(\"Results: %.2f%% (%.2f%%)\" % (results.mean()*100, results.std()*100))\n",
    "model = create_baseline()\n",
    "history = model.fit(X, encoded_Y, validation_split = 0.2, epochs = 100)\n"
   ]
  },
  {
   "cell_type": "code",
   "execution_count": 15,
   "metadata": {},
   "outputs": [
    {
     "data": {
      "image/png": "[encoded data removed]",
      "text/plain": [
       "<Figure size 432x288 with 1 Axes>"
      ]
     },
     "metadata": {
      "needs_background": "light"
     },
     "output_type": "display_data"
    }
   ],
   "source": [
    "plt.plot(history.history['acc'])\n",
    "plt.show()"
   ]
  },
  {
   "cell_type": "code",
   "execution_count": null,
   "metadata": {},
   "outputs": [],
   "source": []
  }
 ],
 "metadata": {
  "kernelspec": {
   "display_name": "Python 3",
   "language": "python",
   "name": "python3"
  },
  "language_info": {
   "codemirror_mode": {
    "name": "ipython",
    "version": 3
   },
   "file_extension": ".py",
   "mimetype": "text/x-python",
   "name": "python",
   "nbconvert_exporter": "python",
   "pygments_lexer": "ipython3",
   "version": "3.7.1"
  }
 },
 "nbformat": 4,
 "nbformat_minor": 2
}
