{
 "cells": [
  {
   "cell_type": "code",
   "execution_count": 1,
   "metadata": {},
   "outputs": [
    {
     "name": "stderr",
     "output_type": "stream",
     "text": [
      "Using TensorFlow backend.\n",
      "/anaconda3/lib/python3.7/importlib/_bootstrap.py:219: RuntimeWarning: compiletime version 3.6 of module 'tensorflow.python.framework.fast_tensor_util' does not match runtime version 3.7\n",
      "  return f(*args, **kwds)\n"
     ]
    }
   ],
   "source": [
    "import numpy as np\n",
    "import keras\n",
    "import matplotlib.pyplot as plt\n",
    "\n",
    "%matplotlib inline"
   ]
  },
  {
   "cell_type": "code",
   "execution_count": 2,
   "metadata": {},
   "outputs": [
    {
     "name": "stderr",
     "output_type": "stream",
     "text": [
      "/anaconda3/lib/python3.7/site-packages/sklearn/svm/base.py:922: ConvergenceWarning: Liblinear failed to converge, increase the number of iterations.\n",
      "  \"the number of iterations.\", ConvergenceWarning)\n"
     ]
    }
   ],
   "source": [
    "from preprocess_dataset import standardised_X, dummy_Y"
   ]
  },
  {
   "cell_type": "code",
   "execution_count": 3,
   "metadata": {},
   "outputs": [],
   "source": [
    "from keras.models import Sequential\n",
    "from keras.layers import Dense"
   ]
  },
  {
   "cell_type": "code",
   "execution_count": 4,
   "metadata": {},
   "outputs": [],
   "source": [
    "from sklearn.metrics import confusion_matrix"
   ]
  },
  {
   "cell_type": "code",
   "execution_count": 5,
   "metadata": {},
   "outputs": [],
   "source": [
    "def create_baseline():\n",
    "    # create the model\n",
    "    model = Sequential()\n",
    "    model.add(Dense(8, kernel_initializer='normal', activation='relu'))\n",
    "    model.add(Dense(5, kernel_initializer='normal', activation='sigmoid'))\n",
    "    # Compile model. We use the the logarithmic loss function, and the Adam gradient optimizer.\n",
    "    model.compile(loss='categorical_crossentropy', optimizer='adam', metrics=['accuracy'])\n",
    "    return model"
   ]
  },
  {
   "cell_type": "code",
   "execution_count": 6,
   "metadata": {},
   "outputs": [
    {
     "name": "stdout",
     "output_type": "stream",
     "text": [
      "Train on 18000 samples, validate on 2000 samples\n",
      "Epoch 1/30\n",
      "18000/18000 [==============================] - 1s 76us/step - loss: 0.9664 - acc: 0.7035 - val_loss: 0.5783 - val_acc: 0.9405\n",
      "Epoch 2/30\n",
      "18000/18000 [==============================] - 1s 45us/step - loss: 0.4636 - acc: 0.8079 - val_loss: 0.4264 - val_acc: 0.9405\n",
      "Epoch 3/30\n",
      "18000/18000 [==============================] - 1s 44us/step - loss: 0.4459 - acc: 0.8088 - val_loss: 0.4466 - val_acc: 0.9405\n",
      "Epoch 4/30\n",
      "18000/18000 [==============================] - 1s 43us/step - loss: 0.4414 - acc: 0.8089 - val_loss: 0.4256 - val_acc: 0.9405\n",
      "Epoch 5/30\n",
      "18000/18000 [==============================] - 1s 43us/step - loss: 0.4390 - acc: 0.8088 - val_loss: 0.4248 - val_acc: 0.9405\n",
      "Epoch 6/30\n",
      "18000/18000 [==============================] - 1s 43us/step - loss: 0.4370 - acc: 0.8085 - val_loss: 0.4209 - val_acc: 0.9405\n",
      "Epoch 7/30\n",
      "18000/18000 [==============================] - 1s 44us/step - loss: 0.4356 - acc: 0.8087 - val_loss: 0.4088 - val_acc: 0.9405\n",
      "Epoch 8/30\n",
      "18000/18000 [==============================] - 1s 43us/step - loss: 0.4343 - acc: 0.8089 - val_loss: 0.3963 - val_acc: 0.9405\n",
      "Epoch 9/30\n",
      "18000/18000 [==============================] - 1s 43us/step - loss: 0.4337 - acc: 0.8090 - val_loss: 0.4438 - val_acc: 0.9405\n",
      "Epoch 10/30\n",
      "18000/18000 [==============================] - 1s 43us/step - loss: 0.4332 - acc: 0.8092 - val_loss: 0.4181 - val_acc: 0.9405\n",
      "Epoch 11/30\n",
      "18000/18000 [==============================] - 1s 53us/step - loss: 0.4326 - acc: 0.8091 - val_loss: 0.4076 - val_acc: 0.9405\n",
      "Epoch 12/30\n",
      "18000/18000 [==============================] - 1s 50us/step - loss: 0.4321 - acc: 0.8090 - val_loss: 0.4002 - val_acc: 0.9405\n",
      "Epoch 13/30\n",
      "18000/18000 [==============================] - 1s 45us/step - loss: 0.4317 - acc: 0.8091 - val_loss: 0.4107 - val_acc: 0.9405\n",
      "Epoch 14/30\n",
      "18000/18000 [==============================] - 1s 47us/step - loss: 0.4313 - acc: 0.8094 - val_loss: 0.4267 - val_acc: 0.9405\n",
      "Epoch 15/30\n",
      "18000/18000 [==============================] - 1s 52us/step - loss: 0.4312 - acc: 0.8095 - val_loss: 0.4434 - val_acc: 0.9405\n",
      "Epoch 16/30\n",
      "18000/18000 [==============================] - 1s 57us/step - loss: 0.4308 - acc: 0.8094 - val_loss: 0.4039 - val_acc: 0.9405\n",
      "Epoch 17/30\n",
      "18000/18000 [==============================] - 1s 46us/step - loss: 0.4306 - acc: 0.8096 - val_loss: 0.3926 - val_acc: 0.9405\n",
      "Epoch 18/30\n",
      "18000/18000 [==============================] - 1s 43us/step - loss: 0.4306 - acc: 0.8095 - val_loss: 0.3922 - val_acc: 0.9405\n",
      "Epoch 19/30\n",
      "18000/18000 [==============================] - 1s 45us/step - loss: 0.4303 - acc: 0.8094 - val_loss: 0.4167 - val_acc: 0.9405\n",
      "Epoch 20/30\n",
      "18000/18000 [==============================] - 1s 43us/step - loss: 0.4301 - acc: 0.8096 - val_loss: 0.3963 - val_acc: 0.9420\n",
      "Epoch 21/30\n",
      "18000/18000 [==============================] - 1s 44us/step - loss: 0.4299 - acc: 0.8095 - val_loss: 0.3792 - val_acc: 0.9430\n",
      "Epoch 22/30\n",
      "18000/18000 [==============================] - 1s 44us/step - loss: 0.4298 - acc: 0.8096 - val_loss: 0.4273 - val_acc: 0.9420\n",
      "Epoch 23/30\n",
      "18000/18000 [==============================] - 1s 44us/step - loss: 0.4295 - acc: 0.8098 - val_loss: 0.3983 - val_acc: 0.9430\n",
      "Epoch 24/30\n",
      "18000/18000 [==============================] - 1s 45us/step - loss: 0.4294 - acc: 0.8099 - val_loss: 0.4087 - val_acc: 0.9430\n",
      "Epoch 25/30\n",
      "18000/18000 [==============================] - 1s 45us/step - loss: 0.4293 - acc: 0.8099 - val_loss: 0.4382 - val_acc: 0.9430\n",
      "Epoch 26/30\n",
      "18000/18000 [==============================] - 1s 50us/step - loss: 0.4291 - acc: 0.8099 - val_loss: 0.3915 - val_acc: 0.9430\n",
      "Epoch 27/30\n",
      "18000/18000 [==============================] - 1s 46us/step - loss: 0.4290 - acc: 0.8098 - val_loss: 0.3863 - val_acc: 0.9430\n",
      "Epoch 28/30\n",
      "18000/18000 [==============================] - 1s 45us/step - loss: 0.4290 - acc: 0.8099 - val_loss: 0.3865 - val_acc: 0.9430\n",
      "Epoch 29/30\n",
      "18000/18000 [==============================] - 1s 45us/step - loss: 0.4288 - acc: 0.8099 - val_loss: 0.3958 - val_acc: 0.9430\n",
      "Epoch 30/30\n",
      "18000/18000 [==============================] - 1s 49us/step - loss: 0.4285 - acc: 0.8100 - val_loss: 0.3890 - val_acc: 0.9430\n"
     ]
    }
   ],
   "source": [
    "model = create_baseline()\n",
    "history = model.fit(standardised_X, dummy_Y, validation_split = 0.1, epochs = 30)"
   ]
  },
  {
   "cell_type": "code",
   "execution_count": 7,
   "metadata": {},
   "outputs": [
    {
     "data": {
      "text/plain": [
       "[<matplotlib.lines.Line2D at 0x1a31795780>]"
      ]
     },
     "execution_count": 7,
     "metadata": {},
     "output_type": "execute_result"
    },
    {
     "data": {
      "image/png": "[encoded data removed]",
      "text/plain": [
       "<Figure size 432x288 with 1 Axes>"
      ]
     },
     "metadata": {
      "needs_background": "light"
     },
     "output_type": "display_data"
    }
   ],
   "source": [
    "plt.plot(history.history['acc'])"
   ]
  },
  {
   "cell_type": "code",
   "execution_count": 19,
   "metadata": {},
   "outputs": [
    {
     "name": "stdout",
     "output_type": "stream",
     "text": [
      "_________________________________________________________________\n",
      "Layer (type)                 Output Shape              Param #   \n",
      "=================================================================\n",
      "dense_1 (Dense)              (None, 8)                 160       \n",
      "_________________________________________________________________\n",
      "dense_2 (Dense)              (None, 5)                 45        \n",
      "=================================================================\n",
      "Total params: 205\n",
      "Trainable params: 205\n",
      "Non-trainable params: 0\n",
      "_________________________________________________________________\n"
     ]
    }
   ],
   "source": [
    "model.summary()"
   ]
  },
  {
   "cell_type": "code",
   "execution_count": 8,
   "metadata": {},
   "outputs": [
    {
     "data": {
      "text/plain": [
       "[array([[-0.4120774 , -0.34548962,  0.25256655,  0.01094389,  0.00282417,\n",
       "         -0.8034969 , -0.80030453,  0.5297624 ],\n",
       "        [-0.00401707, -0.40335584, -0.2807822 ,  0.8668087 ,  1.2690176 ,\n",
       "          0.99546415,  0.4737816 ,  1.3036251 ],\n",
       "        [ 0.0187859 ,  0.09868985,  0.14598894,  0.16434388, -0.1354437 ,\n",
       "         -0.07799997,  0.06041019, -0.12496068],\n",
       "        [ 0.22843438, -0.15962571, -0.04542096,  0.11904928, -0.09665669,\n",
       "          0.2867314 ,  0.1597194 ,  0.44046953],\n",
       "        [ 0.6891423 , -0.7502923 , -0.938214  ,  0.33661023,  0.36249995,\n",
       "          0.6088729 , -0.31656796,  0.6565163 ],\n",
       "        [-0.7044944 ,  0.65151507,  0.08580383, -0.37964764, -0.49133044,\n",
       "          0.28158695,  1.0950136 , -0.52783126],\n",
       "        [-0.4409934 , -0.08646977,  0.36989975, -0.82974285, -1.4287221 ,\n",
       "         -0.01300256, -0.60620934, -1.345386  ],\n",
       "        [-0.8057867 ,  1.0278074 ,  0.40231603, -0.85937923, -0.53612703,\n",
       "         -0.52295876, -0.35105026, -0.41528824],\n",
       "        [ 0.03808153,  0.08410456, -0.04586124,  0.00600542,  0.09398868,\n",
       "         -0.08151443,  0.06697543,  0.250446  ],\n",
       "        [-0.02298866,  0.00318272, -0.00973279,  0.01705778,  0.12405043,\n",
       "         -0.08519576,  0.02733578,  0.20763424],\n",
       "        [-0.02557713,  0.08940355,  0.04832297, -0.01298628,  0.0774761 ,\n",
       "         -0.11365916, -0.02391654,  0.14722437],\n",
       "        [-0.47347105,  1.4276209 , -0.20321439, -0.90173864, -1.1737024 ,\n",
       "         -0.3335895 ,  1.230453  , -0.72649723],\n",
       "        [ 0.6895998 , -0.7944135 , -0.90861195,  0.28696734,  0.45195645,\n",
       "          0.6759214 , -0.30092674,  0.5580477 ],\n",
       "        [ 0.0591376 ,  0.09048326, -0.05456796, -0.04732072,  0.01750607,\n",
       "         -0.03951694,  0.15387586,  0.18976326],\n",
       "        [ 0.0177691 ,  0.05741851, -0.03463653,  0.0228294 ,  0.06048315,\n",
       "         -0.09905913, -0.03717311,  0.24366337],\n",
       "        [-0.6457371 ,  0.3963768 ,  0.4070434 , -0.4800519 , -0.49922886,\n",
       "         -1.0139534 , -0.8201208 , -0.17787893],\n",
       "        [-0.6344136 , -0.06147118,  0.42259678, -0.36577278, -0.1941862 ,\n",
       "         -1.0929004 , -1.0849332 ,  0.7821198 ],\n",
       "        [ 1.0949724 , -0.8481699 , -0.7940759 , -0.8943093 , -0.8586834 ,\n",
       "         -0.11596052, -0.20104316,  0.21211031],\n",
       "        [ 0.15712804, -0.26371917,  0.36579555,  0.545295  ,  0.56903225,\n",
       "          0.3321809 , -1.1083316 ,  0.7391245 ]], dtype=float32),\n",
       " array([0.7487072 , 0.81362915, 0.8932009 , 0.18610075, 0.29385796,\n",
       "        0.6836681 , 0.28259194, 0.33216366], dtype=float32),\n",
       " array([[-0.7527105 ,  0.16289374, -2.1694996 ,  0.4232407 , -1.3633044 ],\n",
       "        [-2.7609801 ,  0.1778134 , -0.60591745, -0.10765684, -0.06875359],\n",
       "        [-0.93518955,  0.5290672 , -0.34230927,  0.3184566 , -0.4549881 ],\n",
       "        [ 0.344664  , -0.44864464, -0.3436615 , -0.77024925, -1.5362251 ],\n",
       "        [ 0.36238164, -1.1503352 , -0.22539245, -0.73363   , -0.92578316],\n",
       "        [-0.01748727, -0.76264024, -1.0620954 , -0.3792039 , -0.46719807],\n",
       "        [-1.0325518 , -1.3419646 , -1.2673204 , -1.4532194 ,  0.47860685],\n",
       "        [-0.30150586, -1.048523  ,  0.4754332 , -0.2012544 , -1.1223158 ]],\n",
       "       dtype=float32),\n",
       " array([-0.7679994 ,  0.07071819, -0.42310283, -0.2064553 , -0.42844844],\n",
       "       dtype=float32)]"
      ]
     },
     "execution_count": 8,
     "metadata": {},
     "output_type": "execute_result"
    }
   ],
   "source": [
    "model.get_weights()"
   ]
  },
  {
   "cell_type": "code",
   "execution_count": 9,
   "metadata": {},
   "outputs": [
    {
     "name": "stdout",
     "output_type": "stream",
     "text": [
      "20000/20000 [==============================] - 0s 13us/step\n"
     ]
    }
   ],
   "source": [
    "predict = model.predict(standardised_X, verbose=1)"
   ]
  },
  {
   "cell_type": "code",
   "execution_count": 10,
   "metadata": {},
   "outputs": [
    {
     "name": "stdout",
     "output_type": "stream",
     "text": [
      "[[0. 1. 0. 0. 0.]\n",
      " [0. 1. 0. 0. 0.]\n",
      " [0. 1. 0. 0. 0.]\n",
      " ...\n",
      " [0. 0. 1. 0. 0.]\n",
      " [0. 0. 1. 0. 0.]\n",
      " [0. 0. 1. 0. 0.]]\n"
     ]
    }
   ],
   "source": [
    "predict_new = np.zeros_like(predict)\n",
    "predict_new[np.arange(len(predict)), predict.argmax(1)] = 1\n",
    "print(predict_new)"
   ]
  },
  {
   "cell_type": "code",
   "execution_count": 11,
   "metadata": {},
   "outputs": [],
   "source": [
    "count1 = [0]*5\n",
    "count2=0"
   ]
  },
  {
   "cell_type": "code",
   "execution_count": 12,
   "metadata": {},
   "outputs": [],
   "source": [
    "for prediction_new in predict_new:\n",
    "    count2=count2+1\n",
    "    if(prediction_new[0] == 1):\n",
    "        count1[0]+=1\n",
    "    elif(prediction_new[1] == 1):\n",
    "        count1[1]+=1\n",
    "    elif(prediction_new[2] == 1):\n",
    "        count1[2]+=1\n",
    "    elif(prediction_new[3] == 1):\n",
    "        count1[3]+=1\n",
    "    elif(prediction_new[4] == 1):\n",
    "        count1[4]+=1"
   ]
  },
  {
   "cell_type": "code",
   "execution_count": 13,
   "metadata": {},
   "outputs": [
    {
     "name": "stdout",
     "output_type": "stream",
     "text": [
      "[3806, 7135, 4114, 1316, 3629]\n",
      "20000\n"
     ]
    }
   ],
   "source": [
    "print(count1)\n",
    "print(count2)"
   ]
  },
  {
   "cell_type": "code",
   "execution_count": 14,
   "metadata": {},
   "outputs": [],
   "source": [
    "y_true = []\n",
    "y_pred = []\n",
    "count = 0"
   ]
  },
  {
   "cell_type": "code",
   "execution_count": 15,
   "metadata": {},
   "outputs": [],
   "source": [
    "for true_vector in dummy_Y:\n",
    "    count+=1\n",
    "    if(true_vector[0] == 1):\n",
    "        y_true.append('a')\n",
    "    elif(true_vector[1] == 1):\n",
    "        y_true.append('b')\n",
    "    elif(true_vector[2] == 1):\n",
    "        y_true.append('c')\n",
    "    elif(true_vector[3] == 1):\n",
    "        y_true.append('d')\n",
    "    elif(true_vector[4] == 1):\n",
    "        y_true.append('e')"
   ]
  },
  {
   "cell_type": "code",
   "execution_count": 16,
   "metadata": {},
   "outputs": [],
   "source": [
    "for true_vector in predict_new:\n",
    "    if(true_vector[0] == 1):\n",
    "        y_pred.append('a')\n",
    "    elif(true_vector[1] == 1):\n",
    "        y_pred.append('b')\n",
    "    elif(true_vector[2] == 1):\n",
    "        y_pred.append('c')\n",
    "    elif(true_vector[3] == 1):\n",
    "        y_pred.append('d')\n",
    "    elif(true_vector[4] == 1):\n",
    "        y_pred.append('e')"
   ]
  },
  {
   "cell_type": "code",
   "execution_count": 17,
   "metadata": {},
   "outputs": [
    {
     "name": "stdout",
     "output_type": "stream",
     "text": [
      "20000\n",
      "20000\n",
      "20000\n"
     ]
    }
   ],
   "source": [
    "print(count)\n",
    "print(len(y_true))\n",
    "print(len(y_pred))"
   ]
  },
  {
   "cell_type": "code",
   "execution_count": 18,
   "metadata": {},
   "outputs": [
    {
     "data": {
      "text/plain": [
       "array([[3783,    0,  217,    0,    0],\n",
       "       [   3, 3978,    2,   17,    0],\n",
       "       [   0,  223, 3777,    0,    0],\n",
       "       [  20, 2563,  118, 1299,    0],\n",
       "       [   0,  371,    0,    0, 3629]])"
      ]
     },
     "execution_count": 18,
     "metadata": {},
     "output_type": "execute_result"
    }
   ],
   "source": [
    "confusion_matrix(y_true, y_pred)"
   ]
  },
  {
   "cell_type": "code",
   "execution_count": null,
   "metadata": {},
   "outputs": [],
   "source": []
  }
 ],
 "metadata": {
  "kernelspec": {
   "display_name": "Python 3",
   "language": "python",
   "name": "python3"
  },
  "language_info": {
   "codemirror_mode": {
    "name": "ipython",
    "version": 3
   },
   "file_extension": ".py",
   "mimetype": "text/x-python",
   "name": "python",
   "nbconvert_exporter": "python",
   "pygments_lexer": "ipython3",
   "version": "3.7.1"
  }
 },
 "nbformat": 4,
 "nbformat_minor": 2
}
