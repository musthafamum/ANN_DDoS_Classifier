{
 "cells": [
  {
   "cell_type": "code",
   "execution_count": 17,
   "metadata": {},
   "outputs": [],
   "source": [
    "import numpy as np\n",
    "import keras\n",
    "import matplotlib.pyplot as plt\n",
    "\n",
    "%matplotlib inline"
   ]
  },
  {
   "cell_type": "code",
   "execution_count": 2,
   "metadata": {},
   "outputs": [],
   "source": [
    "from preprocess_dataset import standardised_X, dummy_Y"
   ]
  },
  {
   "cell_type": "code",
   "execution_count": 7,
   "metadata": {},
   "outputs": [],
   "source": [
    "from keras.models import Sequential\n",
    "from keras.layers import Dense"
   ]
  },
  {
   "cell_type": "code",
   "execution_count": 23,
   "metadata": {},
   "outputs": [],
   "source": [
    "from sklearn.metrics import confusion_matrix"
   ]
  },
  {
   "cell_type": "code",
   "execution_count": 8,
   "metadata": {},
   "outputs": [],
   "source": [
    "def create_baseline():\n",
    "    # create the model\n",
    "    model = Sequential()\n",
    "    model.add(Dense(8, kernel_initializer='normal', activation='relu'))\n",
    "    model.add(Dense(5, kernel_initializer='normal', activation='sigmoid'))\n",
    "    # Compile model. We use the the logarithmic loss function, and the Adam gradient optimizer.\n",
    "    model.compile(loss='categorical_crossentropy', optimizer='adam', metrics=['accuracy'])\n",
    "    return model"
   ]
  },
  {
   "cell_type": "code",
   "execution_count": 9,
   "metadata": {},
   "outputs": [
    {
     "name": "stdout",
     "output_type": "stream",
     "text": [
      "Train on 18000 samples, validate on 2000 samples\n",
      "Epoch 1/30\n",
      "18000/18000 [==============================] - 1s 64us/step - loss: 0.9445 - acc: 0.7119 - val_loss: 0.5104 - val_acc: 0.9405\n",
      "Epoch 2/30\n",
      "18000/18000 [==============================] - 1s 44us/step - loss: 0.4607 - acc: 0.8076 - val_loss: 0.4584 - val_acc: 0.9405\n",
      "Epoch 3/30\n",
      "18000/18000 [==============================] - 1s 42us/step - loss: 0.4443 - acc: 0.8076 - val_loss: 0.4049 - val_acc: 0.9405\n",
      "Epoch 4/30\n",
      "18000/18000 [==============================] - 1s 52us/step - loss: 0.4406 - acc: 0.8074 - val_loss: 0.4126 - val_acc: 0.9405\n",
      "Epoch 5/30\n",
      "18000/18000 [==============================] - 1s 45us/step - loss: 0.4381 - acc: 0.8076 - val_loss: 0.4235 - val_acc: 0.9405\n",
      "Epoch 6/30\n",
      "18000/18000 [==============================] - 1s 51us/step - loss: 0.4363 - acc: 0.8080 - val_loss: 0.4028 - val_acc: 0.9405\n",
      "Epoch 7/30\n",
      "18000/18000 [==============================] - 1s 45us/step - loss: 0.4352 - acc: 0.8081 - val_loss: 0.4026 - val_acc: 0.9405\n",
      "Epoch 8/30\n",
      "18000/18000 [==============================] - 1s 43us/step - loss: 0.4344 - acc: 0.8086 - val_loss: 0.4192 - val_acc: 0.9405\n",
      "Epoch 9/30\n",
      "18000/18000 [==============================] - 1s 43us/step - loss: 0.4338 - acc: 0.8084 - val_loss: 0.4111 - val_acc: 0.9405\n",
      "Epoch 10/30\n",
      "18000/18000 [==============================] - 1s 43us/step - loss: 0.4332 - acc: 0.8086 - val_loss: 0.4143 - val_acc: 0.9405\n",
      "Epoch 11/30\n",
      "18000/18000 [==============================] - 1s 43us/step - loss: 0.4325 - acc: 0.8089 - val_loss: 0.4149 - val_acc: 0.9405\n",
      "Epoch 12/30\n",
      "18000/18000 [==============================] - 1s 41us/step - loss: 0.4322 - acc: 0.8093 - val_loss: 0.4317 - val_acc: 0.9405\n",
      "Epoch 13/30\n",
      "18000/18000 [==============================] - 1s 57us/step - loss: 0.4316 - acc: 0.8091 - val_loss: 0.4065 - val_acc: 0.9405\n",
      "Epoch 14/30\n",
      "18000/18000 [==============================] - 1s 45us/step - loss: 0.4314 - acc: 0.8092 - val_loss: 0.3999 - val_acc: 0.9405\n",
      "Epoch 15/30\n",
      "18000/18000 [==============================] - 1s 43us/step - loss: 0.4314 - acc: 0.8092 - val_loss: 0.3984 - val_acc: 0.9405\n",
      "Epoch 16/30\n",
      "18000/18000 [==============================] - 1s 43us/step - loss: 0.4309 - acc: 0.8096 - val_loss: 0.4164 - val_acc: 0.9405\n",
      "Epoch 17/30\n",
      "18000/18000 [==============================] - 1s 43us/step - loss: 0.4307 - acc: 0.8089 - val_loss: 0.4251 - val_acc: 0.9405\n",
      "Epoch 18/30\n",
      "18000/18000 [==============================] - 1s 43us/step - loss: 0.4304 - acc: 0.8093 - val_loss: 0.4245 - val_acc: 0.9405\n",
      "Epoch 19/30\n",
      "18000/18000 [==============================] - 1s 51us/step - loss: 0.4302 - acc: 0.8094 - val_loss: 0.4037 - val_acc: 0.9405\n",
      "Epoch 20/30\n",
      "18000/18000 [==============================] - 1s 48us/step - loss: 0.4300 - acc: 0.8093 - val_loss: 0.3933 - val_acc: 0.9405\n",
      "Epoch 21/30\n",
      "18000/18000 [==============================] - 1s 45us/step - loss: 0.4299 - acc: 0.8096 - val_loss: 0.3975 - val_acc: 0.9405\n",
      "Epoch 22/30\n",
      "18000/18000 [==============================] - 1s 51us/step - loss: 0.4297 - acc: 0.8097 - val_loss: 0.4195 - val_acc: 0.9405\n",
      "Epoch 23/30\n",
      "18000/18000 [==============================] - 1s 45us/step - loss: 0.4297 - acc: 0.8096 - val_loss: 0.3985 - val_acc: 0.9405\n",
      "Epoch 24/30\n",
      "18000/18000 [==============================] - 1s 44us/step - loss: 0.4295 - acc: 0.8093 - val_loss: 0.4180 - val_acc: 0.9405\n",
      "Epoch 25/30\n",
      "18000/18000 [==============================] - 1s 43us/step - loss: 0.4295 - acc: 0.8096 - val_loss: 0.3807 - val_acc: 0.9405\n",
      "Epoch 26/30\n",
      "18000/18000 [==============================] - 1s 44us/step - loss: 0.4295 - acc: 0.8096 - val_loss: 0.4125 - val_acc: 0.9405\n",
      "Epoch 27/30\n",
      "18000/18000 [==============================] - 1s 44us/step - loss: 0.4293 - acc: 0.8096 - val_loss: 0.3995 - val_acc: 0.9405\n",
      "Epoch 28/30\n",
      "18000/18000 [==============================] - 1s 52us/step - loss: 0.4291 - acc: 0.8097 - val_loss: 0.4388 - val_acc: 0.9405\n",
      "Epoch 29/30\n",
      "18000/18000 [==============================] - 1s 46us/step - loss: 0.4294 - acc: 0.8097 - val_loss: 0.4032 - val_acc: 0.9405\n",
      "Epoch 30/30\n",
      "18000/18000 [==============================] - 1s 44us/step - loss: 0.4292 - acc: 0.8096 - val_loss: 0.4054 - val_acc: 0.9405\n"
     ]
    }
   ],
   "source": [
    "model = create_baseline()\n",
    "history = model.fit(standardised_X, dummy_Y, validation_split = 0.1, epochs = 30)"
   ]
  },
  {
   "cell_type": "code",
   "execution_count": 10,
   "metadata": {},
   "outputs": [
    {
     "data": {
      "text/plain": [
       "[<matplotlib.lines.Line2D at 0x1a2c7fda90>]"
      ]
     },
     "execution_count": 10,
     "metadata": {},
     "output_type": "execute_result"
    },
    {
     "data": {
      "image/png": "[encoded data removed]",
      "text/plain": [
       "<Figure size 432x288 with 1 Axes>"
      ]
     },
     "metadata": {
      "needs_background": "light"
     },
     "output_type": "display_data"
    }
   ],
   "source": [
    "plt.plot(history.history['acc'])"
   ]
  },
  {
   "cell_type": "code",
   "execution_count": 11,
   "metadata": {},
   "outputs": [
    {
     "data": {
      "text/plain": [
       "[array([[-2.17864364e-01,  3.73477191e-01, -3.28232557e-01,\n",
       "         -7.99530625e-01, -3.48172933e-01,  3.66916567e-01,\n",
       "          7.28874683e-01, -5.27548015e-01],\n",
       "        [ 1.06335187e+00, -3.81444156e-01,  5.65826356e-01,\n",
       "          7.36901641e-01, -1.66946903e-01, -2.11889461e-01,\n",
       "          1.30934441e+00,  1.54216871e-01],\n",
       "        [-1.01468734e-01,  2.63034105e-01, -9.16932747e-02,\n",
       "          5.75637780e-02,  1.64763778e-02,  2.26021633e-01,\n",
       "         -9.34196040e-02, -1.55046254e-01],\n",
       "        [ 5.68412170e-02,  9.70565900e-02, -2.33682171e-01,\n",
       "         -1.18441835e-01, -9.30494070e-02, -3.92565578e-02,\n",
       "          9.44895223e-02, -1.33723140e-01],\n",
       "        [ 6.11762643e-01, -7.72627890e-01,  9.75707531e-01,\n",
       "         -3.18577021e-01, -6.77578926e-01, -7.72944629e-01,\n",
       "          1.32531136e-01,  3.76216143e-01],\n",
       "        [-7.12680399e-01,  2.13321537e-01, -4.27105844e-01,\n",
       "          9.80944395e-01,  7.02875793e-01,  1.23022065e-01,\n",
       "         -5.52768052e-01, -2.79674474e-02],\n",
       "        [-8.27055752e-01,  3.51969987e-01, -6.90357447e-01,\n",
       "         -8.15747440e-01, -4.33968872e-01,  2.03943923e-01,\n",
       "         -2.20824742e+00, -1.00876112e-02],\n",
       "        [-8.97419333e-01,  4.24655467e-01, -1.21288049e+00,\n",
       "         -1.81192175e-01,  4.83908951e-01,  4.28017199e-01,\n",
       "         -5.53885520e-01,  7.47722805e-01],\n",
       "        [-4.81292307e-02, -1.39247105e-01,  1.33972764e-01,\n",
       "         -9.56135765e-02,  1.16757669e-01,  8.55359901e-03,\n",
       "          4.04157907e-01,  2.72450354e-02],\n",
       "        [ 1.53055793e-04, -9.32463109e-02,  1.99554220e-01,\n",
       "         -1.11935772e-01,  1.22693986e-01,  4.19097440e-03,\n",
       "          2.99648970e-01,  1.53283194e-01],\n",
       "        [-4.56954949e-02, -7.13482499e-02,  1.85899645e-01,\n",
       "         -9.97504964e-02,  2.00884789e-01, -5.02197035e-02,\n",
       "          4.53088373e-01,  2.75269132e-02],\n",
       "        [-1.05567276e+00, -1.75324343e-02, -5.97988546e-01,\n",
       "          1.06091249e+00,  1.39891803e+00, -9.18077491e-03,\n",
       "         -4.87667531e-01, -5.12221873e-01],\n",
       "        [ 6.56954765e-01, -7.41919875e-01,  9.92133021e-01,\n",
       "         -2.67915308e-01, -6.78401232e-01, -7.06704617e-01,\n",
       "          9.69030112e-02,  3.25867355e-01],\n",
       "        [ 2.23917086e-02,  2.52321120e-02,  1.35466710e-01,\n",
       "         -9.23533589e-02,  1.34413376e-01, -3.47476639e-02,\n",
       "          3.53706926e-01,  2.66404506e-02],\n",
       "        [-1.02394409e-01, -7.73836821e-02,  8.89121071e-02,\n",
       "         -9.39565524e-02,  1.08744591e-01, -4.37391736e-02,\n",
       "          3.62537324e-01,  6.97694942e-02],\n",
       "        [-7.59426653e-01,  4.55364823e-01, -5.12002826e-01,\n",
       "         -4.09491569e-01, -1.33384034e-01,  3.20448905e-01,\n",
       "         -5.07951260e-01, -4.75290278e-03],\n",
       "        [-6.24092162e-01,  8.25596899e-02, -9.15678144e-01,\n",
       "         -9.31555331e-01, -7.35710025e-01,  1.10320710e-01,\n",
       "          8.70100677e-01,  3.07932291e-02],\n",
       "        [-7.39497542e-01, -7.18246222e-01,  1.95648387e-01,\n",
       "         -2.91549355e-01, -7.17442870e-01, -8.28062654e-01,\n",
       "         -4.24549848e-01,  1.38205576e+00],\n",
       "        [ 7.39203751e-01,  1.82312623e-01,  4.46618110e-01,\n",
       "         -7.40637600e-01, -6.28880024e-01,  2.95210212e-01,\n",
       "          7.02481687e-01, -2.93503374e-01]], dtype=float32),\n",
       " array([0.5746781 , 0.693107  , 0.5003117 , 0.34205154, 0.6735457 ,\n",
       "        0.76368403, 0.23260707, 0.84034634], dtype=float32),\n",
       " array([[ 0.43328607, -0.9024362 , -0.64795446, -0.82479954, -0.8950108 ],\n",
       "        [-0.7606848 ,  0.6445098 , -0.19996737,  0.2345996 , -0.20690861],\n",
       "        [-0.03728204, -0.8600432 , -1.17463   ,  0.1015197 , -2.7306492 ],\n",
       "        [-0.9005976 , -1.1313674 , -1.1067622 , -0.8539148 ,  0.1345635 ],\n",
       "        [-3.058123  , -0.38967997, -0.8448836 , -0.5548777 ,  0.14130406],\n",
       "        [-0.782782  ,  0.5255027 , -0.27451086,  0.26330766, -0.39306325],\n",
       "        [-0.08741905, -1.1571325 ,  0.36618787, -0.50141686, -0.98625726],\n",
       "        [-1.5682409 ,  0.5349439 , -0.5364566 ,  0.47077805, -0.49217495]],\n",
       "       dtype=float32),\n",
       " array([-0.43841386, -0.00629248, -0.42283893, -0.22333083, -0.50878245],\n",
       "       dtype=float32)]"
      ]
     },
     "execution_count": 11,
     "metadata": {},
     "output_type": "execute_result"
    }
   ],
   "source": [
    "model.get_weights()"
   ]
  },
  {
   "cell_type": "code",
   "execution_count": 12,
   "metadata": {},
   "outputs": [
    {
     "name": "stdout",
     "output_type": "stream",
     "text": [
      "20000/20000 [==============================] - 0s 14us/step\n"
     ]
    }
   ],
   "source": [
    "predict = model.predict(standardised_X, verbose=1)"
   ]
  },
  {
   "cell_type": "code",
   "execution_count": 18,
   "metadata": {},
   "outputs": [
    {
     "name": "stdout",
     "output_type": "stream",
     "text": [
      "[[0. 1. 0. 0. 0.]\n",
      " [0. 1. 0. 0. 0.]\n",
      " [0. 1. 0. 0. 0.]\n",
      " ...\n",
      " [0. 0. 1. 0. 0.]\n",
      " [0. 0. 1. 0. 0.]\n",
      " [0. 0. 1. 0. 0.]]\n"
     ]
    }
   ],
   "source": [
    "predict_new = np.zeros_like(predict)\n",
    "predict_new[np.arange(len(predict)), predict.argmax(1)] = 1\n",
    "print(predict_new)"
   ]
  },
  {
   "cell_type": "code",
   "execution_count": 20,
   "metadata": {},
   "outputs": [],
   "source": [
    "count1 = [0]*5\n",
    "count2=0"
   ]
  },
  {
   "cell_type": "code",
   "execution_count": 21,
   "metadata": {},
   "outputs": [],
   "source": [
    "for prediction_new in predict_new:\n",
    "    count2=count2+1\n",
    "    if(prediction_new[0] == 1):\n",
    "        count1[0]+=1\n",
    "    elif(prediction_new[1] == 1):\n",
    "        count1[1]+=1\n",
    "    elif(prediction_new[2] == 1):\n",
    "        count1[2]+=1\n",
    "    elif(prediction_new[3] == 1):\n",
    "        count1[3]+=1\n",
    "    elif(prediction_new[4] == 1):\n",
    "        count1[4]+=1"
   ]
  },
  {
   "cell_type": "code",
   "execution_count": 22,
   "metadata": {},
   "outputs": [
    {
     "name": "stdout",
     "output_type": "stream",
     "text": [
      "[3810, 7144, 4106, 1311, 3629]\n",
      "20000\n"
     ]
    }
   ],
   "source": [
    "print(count1)\n",
    "print(count2)"
   ]
  },
  {
   "cell_type": "code",
   "execution_count": 39,
   "metadata": {},
   "outputs": [],
   "source": [
    "y_true = []\n",
    "y_pred = []\n",
    "count = 0"
   ]
  },
  {
   "cell_type": "code",
   "execution_count": 40,
   "metadata": {},
   "outputs": [],
   "source": [
    "for true_vector in dummy_Y:\n",
    "    count+=1\n",
    "    if(true_vector[0] == 1):\n",
    "        y_true.append('a')\n",
    "    elif(true_vector[1] == 1):\n",
    "        y_true.append('b')\n",
    "    elif(true_vector[2] == 1):\n",
    "        y_true.append('c')\n",
    "    elif(true_vector[3] == 1):\n",
    "        y_true.append('d')\n",
    "    elif(true_vector[4] == 1):\n",
    "        y_true.append('e')"
   ]
  },
  {
   "cell_type": "code",
   "execution_count": 41,
   "metadata": {},
   "outputs": [],
   "source": [
    "for true_vector in predict_new:\n",
    "    if(true_vector[0] == 1):\n",
    "        y_pred.append('a')\n",
    "    elif(true_vector[1] == 1):\n",
    "        y_pred.append('b')\n",
    "    elif(true_vector[2] == 1):\n",
    "        y_pred.append('c')\n",
    "    elif(true_vector[3] == 1):\n",
    "        y_pred.append('d')\n",
    "    elif(true_vector[4] == 1):\n",
    "        y_pred.append('e')"
   ]
  },
  {
   "cell_type": "code",
   "execution_count": 42,
   "metadata": {},
   "outputs": [
    {
     "name": "stdout",
     "output_type": "stream",
     "text": [
      "20000\n",
      "20000\n",
      "20000\n"
     ]
    }
   ],
   "source": [
    "print(count)\n",
    "print(len(y_true))\n",
    "print(len(y_pred))"
   ]
  },
  {
   "cell_type": "code",
   "execution_count": 43,
   "metadata": {},
   "outputs": [
    {
     "data": {
      "text/plain": [
       "array([[3783,    0,  217,    0,    0],\n",
       "       [   4, 3977,    2,   17,    0],\n",
       "       [   0,  230, 3770,    0,    0],\n",
       "       [  23, 2566,  117, 1294,    0],\n",
       "       [   0,  371,    0,    0, 3629]])"
      ]
     },
     "execution_count": 43,
     "metadata": {},
     "output_type": "execute_result"
    }
   ],
   "source": [
    "confusion_matrix(y_true, y_pred)"
   ]
  },
  {
   "cell_type": "code",
   "execution_count": null,
   "metadata": {},
   "outputs": [],
   "source": []
  }
 ],
 "metadata": {
  "kernelspec": {
   "display_name": "Python 3",
   "language": "python",
   "name": "python3"
  },
  "language_info": {
   "codemirror_mode": {
    "name": "ipython",
    "version": 3
   },
   "file_extension": ".py",
   "mimetype": "text/x-python",
   "name": "python",
   "nbconvert_exporter": "python",
   "pygments_lexer": "ipython3",
   "version": "3.7.1"
  }
 },
 "nbformat": 4,
 "nbformat_minor": 2
}
