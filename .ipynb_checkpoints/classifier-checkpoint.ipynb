{
 "cells": [
  {
   "cell_type": "code",
   "execution_count": 1,
   "metadata": {},
   "outputs": [
    {
     "name": "stderr",
     "output_type": "stream",
     "text": [
      "Using TensorFlow backend.\n",
      "/anaconda3/lib/python3.7/importlib/_bootstrap.py:219: RuntimeWarning: compiletime version 3.6 of module 'tensorflow.python.framework.fast_tensor_util' does not match runtime version 3.7\n",
      "  return f(*args, **kwds)\n"
     ]
    }
   ],
   "source": [
    "import numpy as np\n",
    "import keras\n",
    "import matplotlib.pyplot as plt\n",
    "\n",
    "%matplotlib inline"
   ]
  },
  {
   "cell_type": "code",
   "execution_count": 2,
   "metadata": {},
   "outputs": [
    {
     "name": "stderr",
     "output_type": "stream",
     "text": [
      "/anaconda3/lib/python3.7/site-packages/sklearn/svm/base.py:922: ConvergenceWarning: Liblinear failed to converge, increase the number of iterations.\n",
      "  \"the number of iterations.\", ConvergenceWarning)\n"
     ]
    }
   ],
   "source": [
    "from preprocess_dataset import standardised_X, dummy_Y"
   ]
  },
  {
   "cell_type": "code",
   "execution_count": 3,
   "metadata": {},
   "outputs": [],
   "source": [
    "from keras.models import Sequential\n",
    "from keras.layers import Dense"
   ]
  },
  {
   "cell_type": "code",
   "execution_count": 4,
   "metadata": {},
   "outputs": [],
   "source": [
    "from sklearn.metrics import confusion_matrix"
   ]
  },
  {
   "cell_type": "code",
   "execution_count": 5,
   "metadata": {},
   "outputs": [],
   "source": [
    "def create_baseline():\n",
    "    # create the model\n",
    "    model = Sequential()\n",
    "    model.add(Dense(8, kernel_initializer='normal', activation='relu'))\n",
    "    model.add(Dense(5, kernel_initializer='normal', activation='sigmoid'))\n",
    "    # Compile model. We use the the logarithmic loss function, and the Adam gradient optimizer.\n",
    "    model.compile(loss='categorical_crossentropy', optimizer='adam', metrics=['accuracy'])\n",
    "    return model"
   ]
  },
  {
   "cell_type": "code",
   "execution_count": 6,
   "metadata": {},
   "outputs": [
    {
     "name": "stdout",
     "output_type": "stream",
     "text": [
      "Train on 18000 samples, validate on 2000 samples\n",
      "Epoch 1/30\n",
      "18000/18000 [==============================] - 1s 65us/step - loss: 1.0402 - acc: 0.5684 - val_loss: 0.5236 - val_acc: 0.9440\n",
      "Epoch 2/30\n",
      "18000/18000 [==============================] - 1s 49us/step - loss: 0.5293 - acc: 0.7951 - val_loss: 0.4046 - val_acc: 0.9405\n",
      "Epoch 3/30\n",
      "18000/18000 [==============================] - 1s 49us/step - loss: 0.4794 - acc: 0.8098 - val_loss: 0.4122 - val_acc: 0.9405\n",
      "Epoch 4/30\n",
      "18000/18000 [==============================] - 1s 48us/step - loss: 0.4658 - acc: 0.8104 - val_loss: 0.4035 - val_acc: 0.9405\n",
      "Epoch 5/30\n",
      "18000/18000 [==============================] - 1s 50us/step - loss: 0.4587 - acc: 0.8105 - val_loss: 0.3980 - val_acc: 0.9405\n",
      "Epoch 6/30\n",
      "18000/18000 [==============================] - 1s 48us/step - loss: 0.4536 - acc: 0.8107 - val_loss: 0.3679 - val_acc: 0.9405\n",
      "Epoch 7/30\n",
      "18000/18000 [==============================] - 1s 51us/step - loss: 0.4485 - acc: 0.8109 - val_loss: 0.3727 - val_acc: 0.9405\n",
      "Epoch 8/30\n",
      "18000/18000 [==============================] - 1s 48us/step - loss: 0.4390 - acc: 0.8112 - val_loss: 0.3762 - val_acc: 0.9405\n",
      "Epoch 9/30\n",
      "18000/18000 [==============================] - 1s 49us/step - loss: 0.4328 - acc: 0.8111 - val_loss: 0.4350 - val_acc: 0.9405\n",
      "Epoch 10/30\n",
      "18000/18000 [==============================] - 1s 49us/step - loss: 0.4312 - acc: 0.8111 - val_loss: 0.4183 - val_acc: 0.9405\n",
      "Epoch 11/30\n",
      "18000/18000 [==============================] - 1s 55us/step - loss: 0.4307 - acc: 0.8115 - val_loss: 0.4106 - val_acc: 0.9405\n",
      "Epoch 12/30\n",
      "18000/18000 [==============================] - 1s 56us/step - loss: 0.4302 - acc: 0.8112 - val_loss: 0.4653 - val_acc: 0.9405\n",
      "Epoch 13/30\n",
      "18000/18000 [==============================] - 1s 50us/step - loss: 0.4301 - acc: 0.8113 - val_loss: 0.3764 - val_acc: 0.9405\n",
      "Epoch 14/30\n",
      "18000/18000 [==============================] - 1s 50us/step - loss: 0.4299 - acc: 0.8112 - val_loss: 0.4005 - val_acc: 0.9405\n",
      "Epoch 15/30\n",
      "18000/18000 [==============================] - 1s 55us/step - loss: 0.4295 - acc: 0.8113 - val_loss: 0.4327 - val_acc: 0.9405\n",
      "Epoch 16/30\n",
      "18000/18000 [==============================] - 1s 53us/step - loss: 0.4294 - acc: 0.8115 - val_loss: 0.4409 - val_acc: 0.9405\n",
      "Epoch 17/30\n",
      "18000/18000 [==============================] - 1s 50us/step - loss: 0.4291 - acc: 0.8116 - val_loss: 0.3821 - val_acc: 0.9405\n",
      "Epoch 18/30\n",
      "18000/18000 [==============================] - 1s 50us/step - loss: 0.4289 - acc: 0.8115 - val_loss: 0.4283 - val_acc: 0.9405\n",
      "Epoch 19/30\n",
      "18000/18000 [==============================] - 1s 50us/step - loss: 0.4289 - acc: 0.8116 - val_loss: 0.3985 - val_acc: 0.9405\n",
      "Epoch 20/30\n",
      "18000/18000 [==============================] - 1s 50us/step - loss: 0.4286 - acc: 0.8117 - val_loss: 0.4911 - val_acc: 0.9405\n",
      "Epoch 21/30\n",
      "18000/18000 [==============================] - 1s 49us/step - loss: 0.4288 - acc: 0.8117 - val_loss: 0.3832 - val_acc: 0.9405\n",
      "Epoch 22/30\n",
      "18000/18000 [==============================] - 1s 49us/step - loss: 0.4284 - acc: 0.8118 - val_loss: 0.4018 - val_acc: 0.9405\n",
      "Epoch 23/30\n",
      "18000/18000 [==============================] - 1s 51us/step - loss: 0.4285 - acc: 0.8117 - val_loss: 0.4276 - val_acc: 0.9405\n",
      "Epoch 24/30\n",
      "18000/18000 [==============================] - 1s 53us/step - loss: 0.4284 - acc: 0.8116 - val_loss: 0.3538 - val_acc: 0.9405\n",
      "Epoch 25/30\n",
      "18000/18000 [==============================] - 1s 50us/step - loss: 0.4285 - acc: 0.8118 - val_loss: 0.4162 - val_acc: 0.9405\n",
      "Epoch 26/30\n",
      "18000/18000 [==============================] - 1s 53us/step - loss: 0.4283 - acc: 0.8119 - val_loss: 0.4152 - val_acc: 0.9405\n",
      "Epoch 27/30\n",
      "18000/18000 [==============================] - 1s 49us/step - loss: 0.4283 - acc: 0.8118 - val_loss: 0.4073 - val_acc: 0.9405\n",
      "Epoch 28/30\n",
      "18000/18000 [==============================] - 1s 50us/step - loss: 0.4280 - acc: 0.8120 - val_loss: 0.3982 - val_acc: 0.9405\n",
      "Epoch 29/30\n",
      "18000/18000 [==============================] - 1s 53us/step - loss: 0.4281 - acc: 0.8119 - val_loss: 0.3866 - val_acc: 0.9405\n",
      "Epoch 30/30\n",
      "18000/18000 [==============================] - 1s 51us/step - loss: 0.4279 - acc: 0.8118 - val_loss: 0.3557 - val_acc: 0.9405\n"
     ]
    }
   ],
   "source": [
    "model = create_baseline()\n",
    "history = model.fit(standardised_X, dummy_Y, validation_split = 0.1, epochs = 30)"
   ]
  },
  {
   "cell_type": "code",
   "execution_count": 7,
   "metadata": {},
   "outputs": [
    {
     "data": {
      "text/plain": [
       "[<matplotlib.lines.Line2D at 0x1a2d7955c0>]"
      ]
     },
     "execution_count": 7,
     "metadata": {},
     "output_type": "execute_result"
    },
    {
     "data": {
      "image/png": "[encoded data removed]",
      "text/plain": [
       "<Figure size 432x288 with 1 Axes>"
      ]
     },
     "metadata": {
      "needs_background": "light"
     },
     "output_type": "display_data"
    }
   ],
   "source": [
    "plt.plot(history.history['acc'])"
   ]
  },
  {
   "cell_type": "code",
   "execution_count": 8,
   "metadata": {},
   "outputs": [
    {
     "name": "stdout",
     "output_type": "stream",
     "text": [
      "_________________________________________________________________\n",
      "Layer (type)                 Output Shape              Param #   \n",
      "=================================================================\n",
      "dense_1 (Dense)              (None, 8)                 160       \n",
      "_________________________________________________________________\n",
      "dense_2 (Dense)              (None, 5)                 45        \n",
      "=================================================================\n",
      "Total params: 205\n",
      "Trainable params: 205\n",
      "Non-trainable params: 0\n",
      "_________________________________________________________________\n"
     ]
    }
   ],
   "source": [
    "model.summary()"
   ]
  },
  {
   "cell_type": "code",
   "execution_count": 9,
   "metadata": {},
   "outputs": [
    {
     "data": {
      "text/plain": [
       "[array([[-6.65842116e-01,  2.65723437e-01,  1.33382259e-02,\n",
       "          6.45758629e-01, -1.67839937e-02, -6.51467025e-01,\n",
       "         -3.41096699e-01, -5.62304795e-01],\n",
       "        [ 5.47711313e-01,  1.06442869e+00, -5.16942501e-01,\n",
       "          1.02171743e+00,  6.35653853e-01,  9.60885406e-01,\n",
       "         -1.10583296e-02,  9.52431321e-01],\n",
       "        [-5.34863584e-02, -7.36550465e-02,  3.20808619e-01,\n",
       "         -1.60662904e-01,  7.96471629e-03, -1.72281414e-01,\n",
       "         -8.52706283e-03,  5.73841743e-02],\n",
       "        [-1.55410454e-01, -1.01750590e-01, -1.42934233e-01,\n",
       "          1.65484041e-01,  1.27984852e-01,  4.45696741e-01,\n",
       "         -1.47476971e-01, -4.36405987e-02],\n",
       "        [ 4.01314884e-01,  5.55454075e-01, -1.54149204e-01,\n",
       "         -1.05156064e-01,  2.46574551e-01,  1.17652021e-01,\n",
       "          7.34889925e-01,  1.02787748e-01],\n",
       "        [ 1.01617897e+00, -4.70431685e-01,  1.08795963e-01,\n",
       "         -3.58167291e-01, -3.06439459e-01,  8.52156579e-01,\n",
       "         -3.37782413e-01,  6.58469200e-01],\n",
       "        [-4.09002990e-01,  9.47917402e-02,  1.07570916e-01,\n",
       "         -2.24891925e+00, -6.69691384e-01, -6.63717628e-01,\n",
       "         -5.48126042e-01, -9.23098087e-01],\n",
       "        [-6.74233377e-01, -7.20027864e-01,  9.06746209e-01,\n",
       "         -6.04126871e-01, -8.83038998e-01, -2.86829799e-01,\n",
       "         -1.17309868e+00, -9.08232749e-01],\n",
       "        [-6.86116740e-02,  1.45536557e-01, -1.56334918e-02,\n",
       "          3.94601971e-01,  5.41912615e-02, -1.86040550e-02,\n",
       "          1.71801254e-01, -4.27418901e-03],\n",
       "        [ 7.59000033e-02,  1.16850838e-01, -5.52662183e-03,\n",
       "          3.07692498e-01,  3.85245569e-02,  8.72773752e-02,\n",
       "          2.21222013e-01,  1.44696180e-02],\n",
       "        [-9.26015899e-02,  1.76099569e-01, -4.30949032e-02,\n",
       "          3.66816700e-01,  3.30517702e-02, -5.64609654e-02,\n",
       "          1.00993283e-01, -5.80724403e-02],\n",
       "        [ 4.67805058e-01, -6.85713470e-01,  7.43255794e-01,\n",
       "         -5.26665002e-02, -7.51958609e-01,  6.86905921e-01,\n",
       "         -4.65188682e-01,  1.88658252e-01],\n",
       "        [ 3.54040980e-01,  5.04869401e-01, -1.55793950e-01,\n",
       "         -1.01998866e-01,  2.56349683e-01,  7.27058426e-02,\n",
       "          6.43171012e-01,  1.82779849e-01],\n",
       "        [-4.39106189e-02,  2.54437268e-01,  1.51691330e-03,\n",
       "          4.06803191e-01,  7.17929155e-02,  1.73182460e-03,\n",
       "          2.62159705e-01,  4.74243378e-03],\n",
       "        [-1.14708796e-01,  1.80841818e-01,  1.31633496e-02,\n",
       "          3.91122788e-01,  1.24665936e-02,  3.13488916e-02,\n",
       "          1.60118759e-01, -1.55012812e-02],\n",
       "        [-7.97799885e-01, -4.24450547e-01, -1.40214407e+00,\n",
       "         -9.42228079e-01, -2.80240387e-01, -7.13303983e-02,\n",
       "         -3.13734680e-01, -6.19137883e-01],\n",
       "        [-1.12076163e+00, -4.39246476e-01, -3.97698134e-01,\n",
       "          3.19396913e-01, -6.23690069e-01, -3.48088115e-01,\n",
       "         -6.85686946e-01, -1.03000414e+00],\n",
       "        [-1.49168089e-01, -3.15966755e-01,  1.26630092e+00,\n",
       "         -5.28942883e-01, -6.94324911e-01, -6.26401603e-01,\n",
       "          4.72939074e-01, -1.03530383e+00],\n",
       "        [-6.98724151e-01,  9.53490794e-01, -7.06972703e-02,\n",
       "          4.91263956e-01,  6.48447514e-01, -5.62832475e-01,\n",
       "          9.52567086e-02, -1.59740597e-01]], dtype=float32),\n",
       " array([0.5876107 , 0.44598117, 1.3808665 , 0.3061591 , 0.34219778,\n",
       "        0.92899543, 0.42538106, 0.5930289 ], dtype=float32),\n",
       " array([[-0.51583797, -1.935407  , -1.1094643 , -0.7489897 ,  1.3355172 ],\n",
       "        [ 0.13105345, -1.1065878 , -0.32229903, -0.07418905, -0.8492657 ],\n",
       "        [-3.2350621 ,  0.31634814, -0.6274878 ,  0.01045113, -0.22451526],\n",
       "        [-0.49068823, -1.0329301 ,  0.43190417, -0.74668926, -0.7843494 ],\n",
       "        [ 0.29116392, -0.11828143, -0.33539808, -0.43876663, -1.656146  ],\n",
       "        [-1.8632231 , -0.50250196, -1.008873  , -0.39495495, -0.581459  ],\n",
       "        [-0.07136659, -0.37500533, -1.1091391 ,  0.34654906, -2.3831728 ],\n",
       "        [ 0.28060517, -0.6306693 , -1.7226917 , -1.1345928 , -0.12936923]],\n",
       "       dtype=float32),\n",
       " array([-1.8748798 ,  1.3975984 , -1.2713635 ,  0.41929132, -1.3420401 ],\n",
       "       dtype=float32)]"
      ]
     },
     "execution_count": 9,
     "metadata": {},
     "output_type": "execute_result"
    }
   ],
   "source": [
    "model.get_weights()"
   ]
  },
  {
   "cell_type": "code",
   "execution_count": 10,
   "metadata": {},
   "outputs": [
    {
     "name": "stdout",
     "output_type": "stream",
     "text": [
      "20000/20000 [==============================] - 0s 12us/step\n"
     ]
    }
   ],
   "source": [
    "predict = model.predict(standardised_X, verbose=1)"
   ]
  },
  {
   "cell_type": "code",
   "execution_count": 11,
   "metadata": {},
   "outputs": [
    {
     "name": "stdout",
     "output_type": "stream",
     "text": [
      "[[0. 1. 0. 0. 0.]\n",
      " [0. 1. 0. 0. 0.]\n",
      " [0. 1. 0. 0. 0.]\n",
      " ...\n",
      " [0. 0. 1. 0. 0.]\n",
      " [0. 0. 1. 0. 0.]\n",
      " [0. 0. 1. 0. 0.]]\n"
     ]
    }
   ],
   "source": [
    "predict_new = np.zeros_like(predict)\n",
    "predict_new[np.arange(len(predict)), predict.argmax(1)] = 1\n",
    "print(predict_new)"
   ]
  },
  {
   "cell_type": "code",
   "execution_count": 12,
   "metadata": {},
   "outputs": [],
   "source": [
    "count1 = [0]*5\n",
    "count2=0"
   ]
  },
  {
   "cell_type": "code",
   "execution_count": 13,
   "metadata": {},
   "outputs": [],
   "source": [
    "for prediction_new in predict_new:\n",
    "    count2=count2+1\n",
    "    if(prediction_new[0] == 1):\n",
    "        count1[0]+=1\n",
    "    elif(prediction_new[1] == 1):\n",
    "        count1[1]+=1\n",
    "    elif(prediction_new[2] == 1):\n",
    "        count1[2]+=1\n",
    "    elif(prediction_new[3] == 1):\n",
    "        count1[3]+=1\n",
    "    elif(prediction_new[4] == 1):\n",
    "        count1[4]+=1"
   ]
  },
  {
   "cell_type": "code",
   "execution_count": 14,
   "metadata": {},
   "outputs": [
    {
     "name": "stdout",
     "output_type": "stream",
     "text": [
      "[3800, 7070, 4112, 1389, 3629]\n",
      "20000\n"
     ]
    }
   ],
   "source": [
    "print(count1)\n",
    "print(count2)"
   ]
  },
  {
   "cell_type": "code",
   "execution_count": 15,
   "metadata": {},
   "outputs": [],
   "source": [
    "y_true = []\n",
    "y_pred = []\n",
    "count = 0"
   ]
  },
  {
   "cell_type": "code",
   "execution_count": 16,
   "metadata": {},
   "outputs": [],
   "source": [
    "for true_vector in dummy_Y:\n",
    "    count+=1\n",
    "    if(true_vector[0] == 1):\n",
    "        y_true.append('a')\n",
    "    elif(true_vector[1] == 1):\n",
    "        y_true.append('b')\n",
    "    elif(true_vector[2] == 1):\n",
    "        y_true.append('c')\n",
    "    elif(true_vector[3] == 1):\n",
    "        y_true.append('d')\n",
    "    elif(true_vector[4] == 1):\n",
    "        y_true.append('e')"
   ]
  },
  {
   "cell_type": "code",
   "execution_count": 17,
   "metadata": {},
   "outputs": [],
   "source": [
    "for true_vector in predict_new:\n",
    "    if(true_vector[0] == 1):\n",
    "        y_pred.append('a')\n",
    "    elif(true_vector[1] == 1):\n",
    "        y_pred.append('b')\n",
    "    elif(true_vector[2] == 1):\n",
    "        y_pred.append('c')\n",
    "    elif(true_vector[3] == 1):\n",
    "        y_pred.append('d')\n",
    "    elif(true_vector[4] == 1):\n",
    "        y_pred.append('e')"
   ]
  },
  {
   "cell_type": "code",
   "execution_count": 18,
   "metadata": {},
   "outputs": [
    {
     "name": "stdout",
     "output_type": "stream",
     "text": [
      "20000\n",
      "20000\n",
      "20000\n"
     ]
    }
   ],
   "source": [
    "print(count)\n",
    "print(len(y_true))\n",
    "print(len(y_pred))"
   ]
  },
  {
   "cell_type": "code",
   "execution_count": 19,
   "metadata": {},
   "outputs": [
    {
     "data": {
      "text/plain": [
       "array([[3783,    0,  217,    0,    0],\n",
       "       [   0, 3961,    5,   34,    0],\n",
       "       [   0,  229, 3770,    1,    0],\n",
       "       [  17, 2511,  120, 1352,    0],\n",
       "       [   0,  369,    0,    2, 3629]])"
      ]
     },
     "execution_count": 19,
     "metadata": {},
     "output_type": "execute_result"
    }
   ],
   "source": [
    "confusion_matrix(y_true, y_pred)"
   ]
  },
  {
   "cell_type": "code",
   "execution_count": null,
   "metadata": {},
   "outputs": [],
   "source": []
  },
  {
   "cell_type": "code",
   "execution_count": null,
   "metadata": {},
   "outputs": [],
   "source": []
  }
 ],
 "metadata": {
  "kernelspec": {
   "display_name": "Python 3",
   "language": "python",
   "name": "python3"
  },
  "language_info": {
   "codemirror_mode": {
    "name": "ipython",
    "version": 3
   },
   "file_extension": ".py",
   "mimetype": "text/x-python",
   "name": "python",
   "nbconvert_exporter": "python",
   "pygments_lexer": "ipython3",
   "version": "3.7.1"
  }
 },
 "nbformat": 4,
 "nbformat_minor": 2
}
