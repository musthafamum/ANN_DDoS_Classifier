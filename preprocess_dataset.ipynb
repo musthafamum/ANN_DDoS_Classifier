{
 "cells": [
  {
   "cell_type": "code",
   "execution_count": 1,
   "metadata": {},
   "outputs": [
    {
     "name": "stderr",
     "output_type": "stream",
     "text": [
      "Using TensorFlow backend.\n",
      "/anaconda3/lib/python3.7/importlib/_bootstrap.py:219: RuntimeWarning: compiletime version 3.6 of module 'tensorflow.python.framework.fast_tensor_util' does not match runtime version 3.7\n",
      "  return f(*args, **kwds)\n"
     ]
    }
   ],
   "source": [
    "import numpy as np\n",
    "import pandas as pd\n",
    "\n",
    "from sklearn.svm import LinearSVC\n",
    "from sklearn.feature_selection import SelectFromModel\n",
    "from sklearn.preprocessing import LabelEncoder, StandardScaler\n",
    "\n",
    "from keras.utils import np_utils\n",
    "\n",
    "import matplotlib.pyplot as plt\n",
    "%matplotlib inline"
   ]
  },
  {
   "cell_type": "code",
   "execution_count": 2,
   "metadata": {},
   "outputs": [],
   "source": [
    "data = pd.read_csv('balanced_dataset.csv')"
   ]
  },
  {
   "cell_type": "code",
   "execution_count": 3,
   "metadata": {},
   "outputs": [
    {
     "name": "stdout",
     "output_type": "stream",
     "text": [
      "   Unnamed: 0  Unnamed: 0.1  SRC_ADD  DES_ADD  PKT_ID  FROM_NODE  TO_NODE  \\\n",
      "0           0             0      3.0    24.30  389693         21       23   \n",
      "1           1             1     15.0    24.15  201196         23       24   \n",
      "2           2             3     24.9     9.00  443135         23       21   \n",
      "3           3             4     24.8     8.00  157335         23       21   \n",
      "4           4             5     24.1     1.00  219350         21        1   \n",
      "\n",
      "  PKT_TYPE  PKT_SIZE    FLAGS    ...        PKT_RATE  BYTE_RATE  PKT_AVG_SIZE  \\\n",
      "0      tcp      1540  -------    ...      328.240918   505490.0        1540.0   \n",
      "1      tcp      1540  -------    ...      328.205808   505437.0        1540.0   \n",
      "2      ack        55  -------    ...      328.064183    18043.5          55.0   \n",
      "3      ack        55  -------    ...      328.113525    18046.2          55.0   \n",
      "4      ack        55  -------    ...      328.297902    18056.4          55.0   \n",
      "\n",
      "   UTILIZATION PKT_DELAY PKT_SEND_TIME  PKT_RESEVED_TIME  FIRST_PKT_SENT  \\\n",
      "0     0.236321       0.0     35.519662         35.550032        1.000000   \n",
      "1     0.236337       0.0     20.156478         20.186848        1.000000   \n",
      "2     0.008437       0.0     39.617967         39.647976        1.030058   \n",
      "3     0.008438       0.0     16.029803         16.059813        1.030054   \n",
      "4     0.008440       0.0     21.865762         21.895771        1.030016   \n",
      "\n",
      "   LAST_PKT_RESEVED  PKT_CLASS  \n",
      "0         50.021920     Normal  \n",
      "1         50.030211     Normal  \n",
      "2         50.060098     Normal  \n",
      "3         50.061864     Normal  \n",
      "4         50.043427     Normal  \n",
      "\n",
      "[5 rows x 30 columns]\n"
     ]
    }
   ],
   "source": [
    "print(data.head())"
   ]
  },
  {
   "cell_type": "code",
   "execution_count": 4,
   "metadata": {},
   "outputs": [
    {
     "name": "stdout",
     "output_type": "stream",
     "text": [
      "Index(['Unnamed: 0', 'Unnamed: 0.1', 'SRC_ADD', 'DES_ADD', 'PKT_ID',\n",
      "       'FROM_NODE', 'TO_NODE', 'PKT_TYPE', 'PKT_SIZE', 'FLAGS', 'FID',\n",
      "       'SEQ_NUMBER', 'NUMBER_OF_PKT', 'NUMBER_OF_BYTE', 'NODE_NAME_FROM',\n",
      "       'NODE_NAME_TO', 'PKT_IN', 'PKT_OUT', 'PKT_R', 'PKT_DELAY_NODE',\n",
      "       'PKT_RATE', 'BYTE_RATE', 'PKT_AVG_SIZE', 'UTILIZATION', 'PKT_DELAY',\n",
      "       'PKT_SEND_TIME', 'PKT_RESEVED_TIME', 'FIRST_PKT_SENT',\n",
      "       'LAST_PKT_RESEVED', 'PKT_CLASS'],\n",
      "      dtype='object')\n"
     ]
    }
   ],
   "source": [
    "print(data.columns)"
   ]
  },
  {
   "cell_type": "code",
   "execution_count": 5,
   "metadata": {},
   "outputs": [],
   "source": [
    "data.drop(\"Unnamed: 0\", axis=1, inplace=True)\n",
    "data.drop(\"Unnamed: 0.1\", axis=1, inplace=True)"
   ]
  },
  {
   "cell_type": "code",
   "execution_count": 6,
   "metadata": {},
   "outputs": [
    {
     "data": {
      "text/plain": [
       "Index(['SRC_ADD', 'DES_ADD', 'PKT_ID', 'FROM_NODE', 'TO_NODE', 'PKT_TYPE',\n",
       "       'PKT_SIZE', 'FLAGS', 'FID', 'SEQ_NUMBER', 'NUMBER_OF_PKT',\n",
       "       'NUMBER_OF_BYTE', 'NODE_NAME_FROM', 'NODE_NAME_TO', 'PKT_IN', 'PKT_OUT',\n",
       "       'PKT_R', 'PKT_DELAY_NODE', 'PKT_RATE', 'BYTE_RATE', 'PKT_AVG_SIZE',\n",
       "       'UTILIZATION', 'PKT_DELAY', 'PKT_SEND_TIME', 'PKT_RESEVED_TIME',\n",
       "       'FIRST_PKT_SENT', 'LAST_PKT_RESEVED', 'PKT_CLASS'],\n",
       "      dtype='object')"
      ]
     },
     "execution_count": 6,
     "metadata": {},
     "output_type": "execute_result"
    }
   ],
   "source": [
    "data.columns"
   ]
  },
  {
   "cell_type": "code",
   "execution_count": 7,
   "metadata": {},
   "outputs": [
    {
     "data": {
      "text/plain": [
       "array([[<matplotlib.axes._subplots.AxesSubplot object at 0x10850a6a0>,\n",
       "        <matplotlib.axes._subplots.AxesSubplot object at 0x10926be80>,\n",
       "        <matplotlib.axes._subplots.AxesSubplot object at 0x10929d438>,\n",
       "        <matplotlib.axes._subplots.AxesSubplot object at 0x11933e9b0>,\n",
       "        <matplotlib.axes._subplots.AxesSubplot object at 0x119366f28>],\n",
       "       [<matplotlib.axes._subplots.AxesSubplot object at 0x1193954e0>,\n",
       "        <matplotlib.axes._subplots.AxesSubplot object at 0x1193bc9e8>,\n",
       "        <matplotlib.axes._subplots.AxesSubplot object at 0x1193e5f98>,\n",
       "        <matplotlib.axes._subplots.AxesSubplot object at 0x1193e5fd0>,\n",
       "        <matplotlib.axes._subplots.AxesSubplot object at 0x1a2acf5a90>],\n",
       "       [<matplotlib.axes._subplots.AxesSubplot object at 0x1a2ad27048>,\n",
       "        <matplotlib.axes._subplots.AxesSubplot object at 0x1a2ad4d5c0>,\n",
       "        <matplotlib.axes._subplots.AxesSubplot object at 0x1a2b1e2b38>,\n",
       "        <matplotlib.axes._subplots.AxesSubplot object at 0x1a2b2130f0>,\n",
       "        <matplotlib.axes._subplots.AxesSubplot object at 0x1a2b23a668>],\n",
       "       [<matplotlib.axes._subplots.AxesSubplot object at 0x1a2b261be0>,\n",
       "        <matplotlib.axes._subplots.AxesSubplot object at 0x1a2b292198>,\n",
       "        <matplotlib.axes._subplots.AxesSubplot object at 0x1a2b2b9710>,\n",
       "        <matplotlib.axes._subplots.AxesSubplot object at 0x1a2b2e0c88>,\n",
       "        <matplotlib.axes._subplots.AxesSubplot object at 0x1a2b311240>],\n",
       "       [<matplotlib.axes._subplots.AxesSubplot object at 0x1a2b33a7b8>,\n",
       "        <matplotlib.axes._subplots.AxesSubplot object at 0x1a2b361d30>,\n",
       "        <matplotlib.axes._subplots.AxesSubplot object at 0x1a2b6982e8>,\n",
       "        <matplotlib.axes._subplots.AxesSubplot object at 0x1a2b6bf860>,\n",
       "        <matplotlib.axes._subplots.AxesSubplot object at 0x1a2b6e6dd8>]],\n",
       "      dtype=object)"
      ]
     },
     "execution_count": 7,
     "metadata": {},
     "output_type": "execute_result"
    },
    {
     "data": {
      "image/png": "[encoded data removed]",
      "text/plain": [
       "<Figure size 792x792 with 25 Axes>"
      ]
     },
     "metadata": {
      "needs_background": "light"
     },
     "output_type": "display_data"
    }
   ],
   "source": [
    "data[data.dtypes[(data.dtypes==\"float64\")|(data.dtypes==\"int64\")]\n",
    "                        .index.values].hist(figsize=[11,11])"
   ]
  },
  {
   "cell_type": "code",
   "execution_count": 8,
   "metadata": {},
   "outputs": [],
   "source": [
    "dummy_pkt_type = pd.get_dummies(data['PKT_TYPE'])\n",
    "data = pd.concat([data, dummy_pkt_type], axis = 1)\n",
    "\n",
    "dummy_flags = pd.get_dummies(data['FLAGS'])\n",
    "data = pd.concat([data, dummy_flags], axis = 1)\n",
    "\n",
    "data.drop(\"NODE_NAME_FROM\",axis=1,inplace=True)\n",
    "data.drop(\"NODE_NAME_TO\",axis=1,inplace=True)"
   ]
  },
  {
   "cell_type": "code",
   "execution_count": 9,
   "metadata": {},
   "outputs": [
    {
     "data": {
      "text/plain": [
       "Index(['SRC_ADD', 'DES_ADD', 'PKT_ID', 'FROM_NODE', 'TO_NODE', 'PKT_TYPE',\n",
       "       'PKT_SIZE', 'FLAGS', 'FID', 'SEQ_NUMBER', 'NUMBER_OF_PKT',\n",
       "       'NUMBER_OF_BYTE', 'PKT_IN', 'PKT_OUT', 'PKT_R', 'PKT_DELAY_NODE',\n",
       "       'PKT_RATE', 'BYTE_RATE', 'PKT_AVG_SIZE', 'UTILIZATION', 'PKT_DELAY',\n",
       "       'PKT_SEND_TIME', 'PKT_RESEVED_TIME', 'FIRST_PKT_SENT',\n",
       "       'LAST_PKT_RESEVED', 'PKT_CLASS', 'ack', 'cbr', 'ping', 'tcp', '-------',\n",
       "       '---A---'],\n",
       "      dtype='object')"
      ]
     },
     "execution_count": 9,
     "metadata": {},
     "output_type": "execute_result"
    }
   ],
   "source": [
    "data.columns"
   ]
  },
  {
   "cell_type": "code",
   "execution_count": 10,
   "metadata": {},
   "outputs": [
    {
     "name": "stdout",
     "output_type": "stream",
     "text": [
      "(20000, 29)\n",
      "(20000,)\n"
     ]
    }
   ],
   "source": [
    "features = ['SRC_ADD', 'DES_ADD', 'PKT_ID', 'FROM_NODE', 'TO_NODE', 'PKT_SIZE',\n",
    "       'FID', 'SEQ_NUMBER', 'NUMBER_OF_PKT', 'NUMBER_OF_BYTE', 'PKT_IN',\n",
    "       'PKT_OUT', 'PKT_R', 'PKT_DELAY_NODE', 'PKT_RATE', 'BYTE_RATE',\n",
    "       'PKT_AVG_SIZE', 'UTILIZATION', 'PKT_DELAY', 'PKT_SEND_TIME',\n",
    "       'PKT_RESEVED_TIME', 'FIRST_PKT_SENT', 'LAST_PKT_RESEVED',\n",
    "       'ack', 'cbr', 'ping', 'tcp', '-------', '---A---']\n",
    "X = data[features].values\n",
    "Y = data['PKT_CLASS']\n",
    "\n",
    "print(X.shape)\n",
    "print(Y.shape)"
   ]
  },
  {
   "cell_type": "code",
   "execution_count": 11,
   "metadata": {},
   "outputs": [],
   "source": [
    "encoder = LabelEncoder()\n",
    "encoder.fit(Y)\n",
    "encoded_Y = encoder.transform(Y)"
   ]
  },
  {
   "cell_type": "code",
   "execution_count": 12,
   "metadata": {},
   "outputs": [],
   "source": [
    "dummy_Y = np_utils.to_categorical(encoded_Y)"
   ]
  },
  {
   "cell_type": "code",
   "execution_count": 13,
   "metadata": {},
   "outputs": [
    {
     "name": "stderr",
     "output_type": "stream",
     "text": [
      "/anaconda3/lib/python3.7/site-packages/sklearn/svm/base.py:922: ConvergenceWarning: Liblinear failed to converge, increase the number of iterations.\n",
      "  \"the number of iterations.\", ConvergenceWarning)\n"
     ]
    },
    {
     "data": {
      "text/plain": [
       "(20000, 19)"
      ]
     },
     "execution_count": 13,
     "metadata": {},
     "output_type": "execute_result"
    }
   ],
   "source": [
    "lsvc = LinearSVC(C=0.01, penalty=\"l1\", dual=False).fit(X, encoded_Y)\n",
    "model = SelectFromModel(lsvc, prefit=True)\n",
    "X_new = model.transform(X)\n",
    "X_new.shape"
   ]
  },
  {
   "cell_type": "code",
   "execution_count": 14,
   "metadata": {},
   "outputs": [],
   "source": [
    "scalar = StandardScaler(copy=True, with_mean=True, with_std=True)\n",
    "scalar.fit(X_new)\n",
    "standardised_X = scalar.transform(X_new)"
   ]
  },
  {
   "cell_type": "markdown",
   "metadata": {},
   "source": [
    "# variables available for export\n",
    "\n",
    "*All values are numpy arrays*\n",
    "\n",
    "- <strong>X</strong> : Initial X values\n",
    "- <strong>X_new</strong> : X after feature selection \n",
    "- <strong>standardised_X</strong> : X_new after standardisation\n",
    "- <strong>Y</strong> : Intial Y with string values\n",
    "- <strong>encoded_Y</strong> : Y after integer encoding\n",
    "- <strong>dummy_Y</strong> : encoded_Y after OneHotEncoding"
   ]
  }
 ],
 "metadata": {
  "kernelspec": {
   "display_name": "Python 3",
   "language": "python",
   "name": "python3"
  },
  "language_info": {
   "codemirror_mode": {
    "name": "ipython",
    "version": 3
   },
   "file_extension": ".py",
   "mimetype": "text/x-python",
   "name": "python",
   "nbconvert_exporter": "python",
   "pygments_lexer": "ipython3",
   "version": "3.7.1"
  }
 },
 "nbformat": 4,
 "nbformat_minor": 2
}
